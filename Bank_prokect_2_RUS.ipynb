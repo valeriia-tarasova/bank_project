{
 "cells": [
  {
   "cell_type": "markdown",
   "id": "b2757a3a",
   "metadata": {},
   "source": [
    "# Исследование надежности заемщиков\n",
    "\n",
    "Заказчик — кредитный отдел банка. \n",
    "\n",
    "Задача: выяснить влияет ли семейное положение и количество детей клиента на факт погашения кредита в срок. \n",
    "\n",
    "Входные данные от банка — статистика о платёжеспособности клиентов.\n",
    "\n",
    "Результаты исследования будут учтены при построении модели кредитного скоринга — специальной системы, которая оценивает способность потенциального заёмщика вернуть кредит банку."
   ]
  },
  {
   "cell_type": "markdown",
   "id": "8db74896",
   "metadata": {},
   "source": [
    "### Шаг 1. Обзор данных\n",
    "Представлены данные по количеству детей, опыту работы, возрасту, уровню образования, семейному статусу, полу, долгу по кредиту, цели кредита и дохода клиентов банка. \n",
    "\n",
    "На первый взгляд наблюдается проблема в данных по опыту работы - есть отрицательные значения, чего быть не может, а также не понятно в каких величинах опыт работы измеряется (дни, часы или года). В столбце \"education\" значения записаны не единообразно, необходимо их привести к строчному варианту. В столбце \"purpose\" одинаковые цели записаны по разному (неявные дубликаты), необходимо поделить их на одни категории. В столбцах \"days_employed\" и \"total_income\" есть пропущенные значения."
   ]
  },
  {
   "cell_type": "code",
   "execution_count": 1,
   "id": "884a567f",
   "metadata": {},
   "outputs": [
    {
     "data": {
      "text/html": [
       "<div>\n",
       "<style scoped>\n",
       "    .dataframe tbody tr th:only-of-type {\n",
       "        vertical-align: middle;\n",
       "    }\n",
       "\n",
       "    .dataframe tbody tr th {\n",
       "        vertical-align: top;\n",
       "    }\n",
       "\n",
       "    .dataframe thead th {\n",
       "        text-align: right;\n",
       "    }\n",
       "</style>\n",
       "<table border=\"1\" class=\"dataframe\">\n",
       "  <thead>\n",
       "    <tr style=\"text-align: right;\">\n",
       "      <th></th>\n",
       "      <th>children</th>\n",
       "      <th>days_employed</th>\n",
       "      <th>dob_years</th>\n",
       "      <th>education</th>\n",
       "      <th>education_id</th>\n",
       "      <th>family_status</th>\n",
       "      <th>family_status_id</th>\n",
       "      <th>gender</th>\n",
       "      <th>income_type</th>\n",
       "      <th>debt</th>\n",
       "      <th>total_income</th>\n",
       "      <th>purpose</th>\n",
       "    </tr>\n",
       "  </thead>\n",
       "  <tbody>\n",
       "    <tr>\n",
       "      <th>0</th>\n",
       "      <td>1</td>\n",
       "      <td>-8437.673028</td>\n",
       "      <td>42</td>\n",
       "      <td>высшее</td>\n",
       "      <td>0</td>\n",
       "      <td>женат / замужем</td>\n",
       "      <td>0</td>\n",
       "      <td>F</td>\n",
       "      <td>сотрудник</td>\n",
       "      <td>0</td>\n",
       "      <td>253875.639453</td>\n",
       "      <td>покупка жилья</td>\n",
       "    </tr>\n",
       "    <tr>\n",
       "      <th>1</th>\n",
       "      <td>1</td>\n",
       "      <td>-4024.803754</td>\n",
       "      <td>36</td>\n",
       "      <td>среднее</td>\n",
       "      <td>1</td>\n",
       "      <td>женат / замужем</td>\n",
       "      <td>0</td>\n",
       "      <td>F</td>\n",
       "      <td>сотрудник</td>\n",
       "      <td>0</td>\n",
       "      <td>112080.014102</td>\n",
       "      <td>приобретение автомобиля</td>\n",
       "    </tr>\n",
       "    <tr>\n",
       "      <th>2</th>\n",
       "      <td>0</td>\n",
       "      <td>-5623.422610</td>\n",
       "      <td>33</td>\n",
       "      <td>Среднее</td>\n",
       "      <td>1</td>\n",
       "      <td>женат / замужем</td>\n",
       "      <td>0</td>\n",
       "      <td>M</td>\n",
       "      <td>сотрудник</td>\n",
       "      <td>0</td>\n",
       "      <td>145885.952297</td>\n",
       "      <td>покупка жилья</td>\n",
       "    </tr>\n",
       "    <tr>\n",
       "      <th>3</th>\n",
       "      <td>3</td>\n",
       "      <td>-4124.747207</td>\n",
       "      <td>32</td>\n",
       "      <td>среднее</td>\n",
       "      <td>1</td>\n",
       "      <td>женат / замужем</td>\n",
       "      <td>0</td>\n",
       "      <td>M</td>\n",
       "      <td>сотрудник</td>\n",
       "      <td>0</td>\n",
       "      <td>267628.550329</td>\n",
       "      <td>дополнительное образование</td>\n",
       "    </tr>\n",
       "    <tr>\n",
       "      <th>4</th>\n",
       "      <td>0</td>\n",
       "      <td>340266.072047</td>\n",
       "      <td>53</td>\n",
       "      <td>среднее</td>\n",
       "      <td>1</td>\n",
       "      <td>гражданский брак</td>\n",
       "      <td>1</td>\n",
       "      <td>F</td>\n",
       "      <td>пенсионер</td>\n",
       "      <td>0</td>\n",
       "      <td>158616.077870</td>\n",
       "      <td>сыграть свадьбу</td>\n",
       "    </tr>\n",
       "    <tr>\n",
       "      <th>5</th>\n",
       "      <td>0</td>\n",
       "      <td>-926.185831</td>\n",
       "      <td>27</td>\n",
       "      <td>высшее</td>\n",
       "      <td>0</td>\n",
       "      <td>гражданский брак</td>\n",
       "      <td>1</td>\n",
       "      <td>M</td>\n",
       "      <td>компаньон</td>\n",
       "      <td>0</td>\n",
       "      <td>255763.565419</td>\n",
       "      <td>покупка жилья</td>\n",
       "    </tr>\n",
       "    <tr>\n",
       "      <th>6</th>\n",
       "      <td>0</td>\n",
       "      <td>-2879.202052</td>\n",
       "      <td>43</td>\n",
       "      <td>высшее</td>\n",
       "      <td>0</td>\n",
       "      <td>женат / замужем</td>\n",
       "      <td>0</td>\n",
       "      <td>F</td>\n",
       "      <td>компаньон</td>\n",
       "      <td>0</td>\n",
       "      <td>240525.971920</td>\n",
       "      <td>операции с жильем</td>\n",
       "    </tr>\n",
       "    <tr>\n",
       "      <th>7</th>\n",
       "      <td>0</td>\n",
       "      <td>-152.779569</td>\n",
       "      <td>50</td>\n",
       "      <td>СРЕДНЕЕ</td>\n",
       "      <td>1</td>\n",
       "      <td>женат / замужем</td>\n",
       "      <td>0</td>\n",
       "      <td>M</td>\n",
       "      <td>сотрудник</td>\n",
       "      <td>0</td>\n",
       "      <td>135823.934197</td>\n",
       "      <td>образование</td>\n",
       "    </tr>\n",
       "    <tr>\n",
       "      <th>8</th>\n",
       "      <td>2</td>\n",
       "      <td>-6929.865299</td>\n",
       "      <td>35</td>\n",
       "      <td>ВЫСШЕЕ</td>\n",
       "      <td>0</td>\n",
       "      <td>гражданский брак</td>\n",
       "      <td>1</td>\n",
       "      <td>F</td>\n",
       "      <td>сотрудник</td>\n",
       "      <td>0</td>\n",
       "      <td>95856.832424</td>\n",
       "      <td>на проведение свадьбы</td>\n",
       "    </tr>\n",
       "    <tr>\n",
       "      <th>9</th>\n",
       "      <td>0</td>\n",
       "      <td>-2188.756445</td>\n",
       "      <td>41</td>\n",
       "      <td>среднее</td>\n",
       "      <td>1</td>\n",
       "      <td>женат / замужем</td>\n",
       "      <td>0</td>\n",
       "      <td>M</td>\n",
       "      <td>сотрудник</td>\n",
       "      <td>0</td>\n",
       "      <td>144425.938277</td>\n",
       "      <td>покупка жилья для семьи</td>\n",
       "    </tr>\n",
       "  </tbody>\n",
       "</table>\n",
       "</div>"
      ],
      "text/plain": [
       "   children  days_employed  dob_years education  education_id  \\\n",
       "0         1   -8437.673028         42    высшее             0   \n",
       "1         1   -4024.803754         36   среднее             1   \n",
       "2         0   -5623.422610         33   Среднее             1   \n",
       "3         3   -4124.747207         32   среднее             1   \n",
       "4         0  340266.072047         53   среднее             1   \n",
       "5         0    -926.185831         27    высшее             0   \n",
       "6         0   -2879.202052         43    высшее             0   \n",
       "7         0    -152.779569         50   СРЕДНЕЕ             1   \n",
       "8         2   -6929.865299         35    ВЫСШЕЕ             0   \n",
       "9         0   -2188.756445         41   среднее             1   \n",
       "\n",
       "      family_status  family_status_id gender income_type  debt   total_income  \\\n",
       "0   женат / замужем                 0      F   сотрудник     0  253875.639453   \n",
       "1   женат / замужем                 0      F   сотрудник     0  112080.014102   \n",
       "2   женат / замужем                 0      M   сотрудник     0  145885.952297   \n",
       "3   женат / замужем                 0      M   сотрудник     0  267628.550329   \n",
       "4  гражданский брак                 1      F   пенсионер     0  158616.077870   \n",
       "5  гражданский брак                 1      M   компаньон     0  255763.565419   \n",
       "6   женат / замужем                 0      F   компаньон     0  240525.971920   \n",
       "7   женат / замужем                 0      M   сотрудник     0  135823.934197   \n",
       "8  гражданский брак                 1      F   сотрудник     0   95856.832424   \n",
       "9   женат / замужем                 0      M   сотрудник     0  144425.938277   \n",
       "\n",
       "                      purpose  \n",
       "0               покупка жилья  \n",
       "1     приобретение автомобиля  \n",
       "2               покупка жилья  \n",
       "3  дополнительное образование  \n",
       "4             сыграть свадьбу  \n",
       "5               покупка жилья  \n",
       "6           операции с жильем  \n",
       "7                 образование  \n",
       "8       на проведение свадьбы  \n",
       "9     покупка жилья для семьи  "
      ]
     },
     "execution_count": 1,
     "metadata": {},
     "output_type": "execute_result"
    }
   ],
   "source": [
    "import pandas as pd\n",
    "data = pd.read_csv('/datasets/data.csv')\n",
    "from pymystem3 import Mystem\n",
    "m = Mystem()\n",
    "data.head(10)"
   ]
  },
  {
   "cell_type": "code",
   "execution_count": 2,
   "id": "f3042369",
   "metadata": {},
   "outputs": [
    {
     "name": "stdout",
     "output_type": "stream",
     "text": [
      "<class 'pandas.core.frame.DataFrame'>\n",
      "RangeIndex: 21525 entries, 0 to 21524\n",
      "Data columns (total 12 columns):\n",
      " #   Column            Non-Null Count  Dtype  \n",
      "---  ------            --------------  -----  \n",
      " 0   children          21525 non-null  int64  \n",
      " 1   days_employed     19351 non-null  float64\n",
      " 2   dob_years         21525 non-null  int64  \n",
      " 3   education         21525 non-null  object \n",
      " 4   education_id      21525 non-null  int64  \n",
      " 5   family_status     21525 non-null  object \n",
      " 6   family_status_id  21525 non-null  int64  \n",
      " 7   gender            21525 non-null  object \n",
      " 8   income_type       21525 non-null  object \n",
      " 9   debt              21525 non-null  int64  \n",
      " 10  total_income      19351 non-null  float64\n",
      " 11  purpose           21525 non-null  object \n",
      "dtypes: float64(2), int64(5), object(5)\n",
      "memory usage: 2.0+ MB\n"
     ]
    }
   ],
   "source": [
    "data.info()"
   ]
  },
  {
   "cell_type": "markdown",
   "id": "58d8265c",
   "metadata": {},
   "source": [
    "### Шаг 2.1 Заполнение пропусков\n",
    "После вызова функции info обнаружены пропуски значений в столбцах \"days_employed\" и \"total_income\" (по 2174 значения пропущено в каждом столбце). Данные пропуски относятся к MNAR (Missing Not At Random) пропускам, где данные отсутствуют в зависимости от неизвестных факторов. \n",
    "Восстановить по имеющимся другим данным в датасете невозможно. Значения в данных столбцах относятся к типу float64. Лучшим способом заполнить пропуски будет - заменить на медианное значение по столбцу. "
   ]
  },
  {
   "cell_type": "code",
   "execution_count": 3,
   "id": "05e3179f",
   "metadata": {},
   "outputs": [
    {
     "data": {
      "text/plain": [
       "children               0\n",
       "days_employed       2174\n",
       "dob_years              0\n",
       "education              0\n",
       "education_id           0\n",
       "family_status          0\n",
       "family_status_id       0\n",
       "gender                 0\n",
       "income_type            0\n",
       "debt                   0\n",
       "total_income        2174\n",
       "purpose                0\n",
       "dtype: int64"
      ]
     },
     "execution_count": 3,
     "metadata": {},
     "output_type": "execute_result"
    }
   ],
   "source": [
    "data.isna().sum() "
   ]
  },
  {
   "cell_type": "code",
   "execution_count": 4,
   "id": "bed5e928",
   "metadata": {},
   "outputs": [
    {
     "data": {
      "text/plain": [
       "children            0\n",
       "days_employed       0\n",
       "dob_years           0\n",
       "education           0\n",
       "education_id        0\n",
       "family_status       0\n",
       "family_status_id    0\n",
       "gender              0\n",
       "income_type         0\n",
       "debt                0\n",
       "total_income        0\n",
       "purpose             0\n",
       "dtype: int64"
      ]
     },
     "execution_count": 4,
     "metadata": {},
     "output_type": "execute_result"
    }
   ],
   "source": [
    "days_employed_median = data['days_employed'].median() \n",
    "total_income_median = data['total_income'].median() \n",
    "data['days_employed'].fillna(days_employed_median, inplace = True)\n",
    "data['total_income'].fillna(total_income_median, inplace = True)\n",
    "data.isna().sum() "
   ]
  },
  {
   "cell_type": "markdown",
   "id": "5d38bf20",
   "metadata": {},
   "source": [
    "### Шаг 2.2 Проверка данных на аномалии и исправления.\n",
    "В столбце days_employed найдены артефакты - в некоторых случаях стаж отрицательный, в остальных он неправдоподобно большой. Скорее всего, база данных была ошибочно заполнена, либо данные были неправильно извлечены. Удалить столбец будет наилучшим выходом, так как для дальнейшего исследования он не понадобится. \n",
    "В столбце \"dob_years\" были обнаружены значения равные 0, что невозможно, так как в данном столбце хранятся данные о возрасте клиентов. Поэтому нулевые значения были заменены на среднее значение по столбцу.\n",
    "В столбце с числом детей \"children\" обнаружены неправдопадобные значения - отрицательные значения и слишком высокие значения. Но доля таких значений незначительна (около 1% от всех строк). Для удобства исследования, строки с неверными значениями удалены."
   ]
  },
  {
   "cell_type": "code",
   "execution_count": 5,
   "id": "a49e2dff",
   "metadata": {},
   "outputs": [],
   "source": [
    "data.drop(['days_employed'], axis='columns', inplace=True)  "
   ]
  },
  {
   "cell_type": "code",
   "execution_count": 6,
   "id": "09831d03",
   "metadata": {},
   "outputs": [
    {
     "data": {
      "text/plain": [
       "66    183\n",
       "22    183\n",
       "67    167\n",
       "21    111\n",
       "0     101\n",
       "68     99\n",
       "69     85\n",
       "70     65\n",
       "71     58\n",
       "20     51\n",
       "72     33\n",
       "19     14\n",
       "73      8\n",
       "74      6\n",
       "75      1\n",
       "Name: dob_years, dtype: int64"
      ]
     },
     "execution_count": 6,
     "metadata": {},
     "output_type": "execute_result"
    }
   ],
   "source": [
    "data['dob_years'].value_counts().tail(15)"
   ]
  },
  {
   "cell_type": "code",
   "execution_count": 7,
   "id": "27f57560",
   "metadata": {},
   "outputs": [
    {
     "data": {
      "text/plain": [
       "0"
      ]
     },
     "execution_count": 7,
     "metadata": {},
     "output_type": "execute_result"
    }
   ],
   "source": [
    "data.loc[data['dob_years'] == 0] = int(data['dob_years'].mean())\n",
    "data.loc[data['dob_years'] == 0].count().sum()"
   ]
  },
  {
   "cell_type": "code",
   "execution_count": 8,
   "id": "a1dee720",
   "metadata": {},
   "outputs": [
    {
     "data": {
      "text/plain": [
       " 0     14080\n",
       " 1      4802\n",
       " 2      2042\n",
       " 3       328\n",
       " 43      101\n",
       " 20       75\n",
       "-1        47\n",
       " 4        41\n",
       " 5         9\n",
       "Name: children, dtype: int64"
      ]
     },
     "execution_count": 8,
     "metadata": {},
     "output_type": "execute_result"
    }
   ],
   "source": [
    "data['children'].value_counts()"
   ]
  },
  {
   "cell_type": "code",
   "execution_count": 9,
   "id": "bb25b4a5",
   "metadata": {},
   "outputs": [
    {
     "data": {
      "text/plain": [
       "0    14080\n",
       "1     4802\n",
       "2     2042\n",
       "3      328\n",
       "4       41\n",
       "5        9\n",
       "Name: children, dtype: int64"
      ]
     },
     "execution_count": 9,
     "metadata": {},
     "output_type": "execute_result"
    }
   ],
   "source": [
    "data = data.loc[data['children'] >= 0]\n",
    "data = data.loc[data['children'] < 20]\n",
    "data['children'].value_counts()"
   ]
  },
  {
   "cell_type": "markdown",
   "id": "133fdd5b",
   "metadata": {},
   "source": [
    "### Шаг 2.3. Изменение типов данных.\n",
    "Данные в столбце \"total_income\" были типа float64. Для удобства расчетов были переведены в тип int (целочисленных значений). "
   ]
  },
  {
   "cell_type": "code",
   "execution_count": 10,
   "id": "ff9985b9",
   "metadata": {},
   "outputs": [
    {
     "name": "stdout",
     "output_type": "stream",
     "text": [
      "<class 'pandas.core.frame.DataFrame'>\n",
      "Int64Index: 21302 entries, 0 to 21524\n",
      "Data columns (total 11 columns):\n",
      " #   Column            Non-Null Count  Dtype \n",
      "---  ------            --------------  ----- \n",
      " 0   children          21302 non-null  int64 \n",
      " 1   dob_years         21302 non-null  int64 \n",
      " 2   education         21302 non-null  object\n",
      " 3   education_id      21302 non-null  int64 \n",
      " 4   family_status     21302 non-null  object\n",
      " 5   family_status_id  21302 non-null  int64 \n",
      " 6   gender            21302 non-null  object\n",
      " 7   income_type       21302 non-null  object\n",
      " 8   debt              21302 non-null  int64 \n",
      " 9   total_income      21302 non-null  int64 \n",
      " 10  purpose           21302 non-null  object\n",
      "dtypes: int64(6), object(5)\n",
      "memory usage: 2.0+ MB\n"
     ]
    }
   ],
   "source": [
    "data['total_income'] = data['total_income'].astype('int')\n",
    "data.info()"
   ]
  },
  {
   "cell_type": "code",
   "execution_count": 11,
   "id": "8a437ae0",
   "metadata": {},
   "outputs": [
    {
     "data": {
      "text/html": [
       "<div>\n",
       "<style scoped>\n",
       "    .dataframe tbody tr th:only-of-type {\n",
       "        vertical-align: middle;\n",
       "    }\n",
       "\n",
       "    .dataframe tbody tr th {\n",
       "        vertical-align: top;\n",
       "    }\n",
       "\n",
       "    .dataframe thead th {\n",
       "        text-align: right;\n",
       "    }\n",
       "</style>\n",
       "<table border=\"1\" class=\"dataframe\">\n",
       "  <thead>\n",
       "    <tr style=\"text-align: right;\">\n",
       "      <th></th>\n",
       "      <th>education_id</th>\n",
       "      <th>education</th>\n",
       "    </tr>\n",
       "  </thead>\n",
       "  <tbody>\n",
       "    <tr>\n",
       "      <th>0</th>\n",
       "      <td>0</td>\n",
       "      <td>высшее</td>\n",
       "    </tr>\n",
       "    <tr>\n",
       "      <th>1</th>\n",
       "      <td>1</td>\n",
       "      <td>среднее</td>\n",
       "    </tr>\n",
       "    <tr>\n",
       "      <th>2</th>\n",
       "      <td>1</td>\n",
       "      <td>Среднее</td>\n",
       "    </tr>\n",
       "    <tr>\n",
       "      <th>3</th>\n",
       "      <td>1</td>\n",
       "      <td>СРЕДНЕЕ</td>\n",
       "    </tr>\n",
       "    <tr>\n",
       "      <th>4</th>\n",
       "      <td>0</td>\n",
       "      <td>ВЫСШЕЕ</td>\n",
       "    </tr>\n",
       "    <tr>\n",
       "      <th>5</th>\n",
       "      <td>2</td>\n",
       "      <td>неоконченное высшее</td>\n",
       "    </tr>\n",
       "    <tr>\n",
       "      <th>6</th>\n",
       "      <td>3</td>\n",
       "      <td>начальное</td>\n",
       "    </tr>\n",
       "    <tr>\n",
       "      <th>7</th>\n",
       "      <td>0</td>\n",
       "      <td>Высшее</td>\n",
       "    </tr>\n",
       "    <tr>\n",
       "      <th>8</th>\n",
       "      <td>2</td>\n",
       "      <td>НЕОКОНЧЕННОЕ ВЫСШЕЕ</td>\n",
       "    </tr>\n",
       "    <tr>\n",
       "      <th>9</th>\n",
       "      <td>2</td>\n",
       "      <td>Неоконченное высшее</td>\n",
       "    </tr>\n",
       "  </tbody>\n",
       "</table>\n",
       "</div>"
      ],
      "text/plain": [
       "   education_id            education\n",
       "0             0               высшее\n",
       "1             1              среднее\n",
       "2             1              Среднее\n",
       "3             1              СРЕДНЕЕ\n",
       "4             0               ВЫСШЕЕ\n",
       "5             2  неоконченное высшее\n",
       "6             3            начальное\n",
       "7             0               Высшее\n",
       "8             2  НЕОКОНЧЕННОЕ ВЫСШЕЕ\n",
       "9             2  Неоконченное высшее"
      ]
     },
     "execution_count": 11,
     "metadata": {},
     "output_type": "execute_result"
    }
   ],
   "source": [
    "education_dict = data[['education_id', 'education']]\n",
    "education_dict = education_dict.drop_duplicates().reset_index(drop=True)\n",
    "education_dict.head(10)"
   ]
  },
  {
   "cell_type": "code",
   "execution_count": 12,
   "id": "3c66e530",
   "metadata": {},
   "outputs": [
    {
     "data": {
      "text/html": [
       "<div>\n",
       "<style scoped>\n",
       "    .dataframe tbody tr th:only-of-type {\n",
       "        vertical-align: middle;\n",
       "    }\n",
       "\n",
       "    .dataframe tbody tr th {\n",
       "        vertical-align: top;\n",
       "    }\n",
       "\n",
       "    .dataframe thead th {\n",
       "        text-align: right;\n",
       "    }\n",
       "</style>\n",
       "<table border=\"1\" class=\"dataframe\">\n",
       "  <thead>\n",
       "    <tr style=\"text-align: right;\">\n",
       "      <th></th>\n",
       "      <th>family_status_id</th>\n",
       "      <th>family_status</th>\n",
       "    </tr>\n",
       "  </thead>\n",
       "  <tbody>\n",
       "    <tr>\n",
       "      <th>0</th>\n",
       "      <td>0</td>\n",
       "      <td>женат / замужем</td>\n",
       "    </tr>\n",
       "    <tr>\n",
       "      <th>1</th>\n",
       "      <td>1</td>\n",
       "      <td>гражданский брак</td>\n",
       "    </tr>\n",
       "    <tr>\n",
       "      <th>2</th>\n",
       "      <td>2</td>\n",
       "      <td>вдовец / вдова</td>\n",
       "    </tr>\n",
       "    <tr>\n",
       "      <th>3</th>\n",
       "      <td>3</td>\n",
       "      <td>в разводе</td>\n",
       "    </tr>\n",
       "    <tr>\n",
       "      <th>4</th>\n",
       "      <td>4</td>\n",
       "      <td>Не женат / не замужем</td>\n",
       "    </tr>\n",
       "  </tbody>\n",
       "</table>\n",
       "</div>"
      ],
      "text/plain": [
       "   family_status_id          family_status\n",
       "0                 0        женат / замужем\n",
       "1                 1       гражданский брак\n",
       "2                 2         вдовец / вдова\n",
       "3                 3              в разводе\n",
       "4                 4  Не женат / не замужем"
      ]
     },
     "execution_count": 12,
     "metadata": {},
     "output_type": "execute_result"
    }
   ],
   "source": [
    "family_status_dict = data[['family_status_id', 'family_status']]\n",
    "family_status_dict = family_status_dict.drop_duplicates().reset_index(drop=True)\n",
    "family_status_dict.head(10)"
   ]
  },
  {
   "cell_type": "markdown",
   "id": "1aff79db",
   "metadata": {},
   "source": [
    "### Шаг 2.4. Удаление дубликатов.\n",
    "В данных были обнаружены явные дубликаты (54) с помощью метода duplicated(), они были удалены с сохранением индексации. Также были обнаружены неявные дубликаты в столбце \"education\" после применения функции value_counts() для поиска уникальных значений. Элементы в столбце были записаны в разных регистрах. Причиной появляения данных дубликатов возможно неверное заполнение данных изначально. Данные значения были приведены в единый регистр с помощью функции str.lower(). "
   ]
  },
  {
   "cell_type": "code",
   "execution_count": 13,
   "id": "71e60c9c",
   "metadata": {},
   "outputs": [
    {
     "data": {
      "text/plain": [
       "54"
      ]
     },
     "execution_count": 13,
     "metadata": {},
     "output_type": "execute_result"
    }
   ],
   "source": [
    "data.duplicated().sum()"
   ]
  },
  {
   "cell_type": "code",
   "execution_count": 14,
   "id": "c6f08ac7",
   "metadata": {},
   "outputs": [
    {
     "data": {
      "text/plain": [
       "0"
      ]
     },
     "execution_count": 14,
     "metadata": {},
     "output_type": "execute_result"
    }
   ],
   "source": [
    "data = data.drop_duplicates().reset_index(drop=True)\n",
    "data.duplicated().sum()"
   ]
  },
  {
   "cell_type": "code",
   "execution_count": 15,
   "id": "0c90ba6b",
   "metadata": {},
   "outputs": [
    {
     "data": {
      "text/plain": [
       "1    15028\n",
       "0     5193\n",
       "2      739\n",
       "3      282\n",
       "4        6\n",
       "Name: education_id, dtype: int64"
      ]
     },
     "execution_count": 15,
     "metadata": {},
     "output_type": "execute_result"
    }
   ],
   "source": [
    "data['education_id'].value_counts()"
   ]
  },
  {
   "cell_type": "code",
   "execution_count": 16,
   "id": "1c08c20b",
   "metadata": {},
   "outputs": [
    {
     "data": {
      "text/plain": [
       "среднее                15028\n",
       "высшее                  5193\n",
       "неоконченное высшее      739\n",
       "начальное                282\n",
       "ученая степень             6\n",
       "Name: education, dtype: int64"
      ]
     },
     "execution_count": 16,
     "metadata": {},
     "output_type": "execute_result"
    }
   ],
   "source": [
    "data['education'] = data['education'].str.lower()\n",
    "data['education'].value_counts()"
   ]
  },
  {
   "cell_type": "markdown",
   "id": "805f971f",
   "metadata": {},
   "source": [
    "### Шаг 2.6. Категоризация дохода.\n",
    "Клиенты банка были поделены на 5 групп в зависимости от дохода. Для этого была составлена функция с заданными параметрами для каждой группы дохода. Также был сделан отдельный срез с общим доходом, наличием долга и группами по доходам для дальнейшего анализа."
   ]
  },
  {
   "cell_type": "code",
   "execution_count": 17,
   "id": "f1c8d12a",
   "metadata": {},
   "outputs": [],
   "source": [
    "def find_income_groups(income):\n",
    "    if income < 30000:\n",
    "        return('E')\n",
    "    if 30001 <= income <= 50000:\n",
    "        return('D')\n",
    "    if 50001 <= income <= 200000:\n",
    "        return('C')\n",
    "    if 200001 <= income <= 1000000:\n",
    "        return('B')\n",
    "    if income > 1000001:\n",
    "        return('A')"
   ]
  },
  {
   "cell_type": "code",
   "execution_count": 18,
   "id": "f3a2f333",
   "metadata": {},
   "outputs": [
    {
     "name": "stderr",
     "output_type": "stream",
     "text": [
      "/tmp/ipykernel_98/2722038237.py:2: SettingWithCopyWarning: \n",
      "A value is trying to be set on a copy of a slice from a DataFrame.\n",
      "Try using .loc[row_indexer,col_indexer] = value instead\n",
      "\n",
      "See the caveats in the documentation: https://pandas.pydata.org/pandas-docs/stable/user_guide/indexing.html#returning-a-view-versus-a-copy\n",
      "  clients_income['income_groups'] = clients_income['total_income'].apply(find_income_groups)\n"
     ]
    },
    {
     "data": {
      "text/html": [
       "<div>\n",
       "<style scoped>\n",
       "    .dataframe tbody tr th:only-of-type {\n",
       "        vertical-align: middle;\n",
       "    }\n",
       "\n",
       "    .dataframe tbody tr th {\n",
       "        vertical-align: top;\n",
       "    }\n",
       "\n",
       "    .dataframe thead th {\n",
       "        text-align: right;\n",
       "    }\n",
       "</style>\n",
       "<table border=\"1\" class=\"dataframe\">\n",
       "  <thead>\n",
       "    <tr style=\"text-align: right;\">\n",
       "      <th></th>\n",
       "      <th>total_income</th>\n",
       "      <th>debt</th>\n",
       "      <th>income_groups</th>\n",
       "    </tr>\n",
       "  </thead>\n",
       "  <tbody>\n",
       "    <tr>\n",
       "      <th>0</th>\n",
       "      <td>253875</td>\n",
       "      <td>0</td>\n",
       "      <td>B</td>\n",
       "    </tr>\n",
       "    <tr>\n",
       "      <th>1</th>\n",
       "      <td>112080</td>\n",
       "      <td>0</td>\n",
       "      <td>C</td>\n",
       "    </tr>\n",
       "    <tr>\n",
       "      <th>2</th>\n",
       "      <td>145885</td>\n",
       "      <td>0</td>\n",
       "      <td>C</td>\n",
       "    </tr>\n",
       "    <tr>\n",
       "      <th>3</th>\n",
       "      <td>267628</td>\n",
       "      <td>0</td>\n",
       "      <td>B</td>\n",
       "    </tr>\n",
       "    <tr>\n",
       "      <th>4</th>\n",
       "      <td>158616</td>\n",
       "      <td>0</td>\n",
       "      <td>C</td>\n",
       "    </tr>\n",
       "    <tr>\n",
       "      <th>...</th>\n",
       "      <td>...</td>\n",
       "      <td>...</td>\n",
       "      <td>...</td>\n",
       "    </tr>\n",
       "    <tr>\n",
       "      <th>21243</th>\n",
       "      <td>224791</td>\n",
       "      <td>0</td>\n",
       "      <td>B</td>\n",
       "    </tr>\n",
       "    <tr>\n",
       "      <th>21244</th>\n",
       "      <td>155999</td>\n",
       "      <td>0</td>\n",
       "      <td>C</td>\n",
       "    </tr>\n",
       "    <tr>\n",
       "      <th>21245</th>\n",
       "      <td>89672</td>\n",
       "      <td>1</td>\n",
       "      <td>C</td>\n",
       "    </tr>\n",
       "    <tr>\n",
       "      <th>21246</th>\n",
       "      <td>244093</td>\n",
       "      <td>1</td>\n",
       "      <td>B</td>\n",
       "    </tr>\n",
       "    <tr>\n",
       "      <th>21247</th>\n",
       "      <td>82047</td>\n",
       "      <td>0</td>\n",
       "      <td>C</td>\n",
       "    </tr>\n",
       "  </tbody>\n",
       "</table>\n",
       "<p>21248 rows × 3 columns</p>\n",
       "</div>"
      ],
      "text/plain": [
       "       total_income  debt income_groups\n",
       "0            253875     0             B\n",
       "1            112080     0             C\n",
       "2            145885     0             C\n",
       "3            267628     0             B\n",
       "4            158616     0             C\n",
       "...             ...   ...           ...\n",
       "21243        224791     0             B\n",
       "21244        155999     0             C\n",
       "21245         89672     1             C\n",
       "21246        244093     1             B\n",
       "21247         82047     0             C\n",
       "\n",
       "[21248 rows x 3 columns]"
      ]
     },
     "metadata": {},
     "output_type": "display_data"
    }
   ],
   "source": [
    "clients_income = data[['total_income', 'debt']]\n",
    "clients_income['income_groups'] = clients_income['total_income'].apply(find_income_groups)\n",
    "display(clients_income)"
   ]
  },
  {
   "cell_type": "markdown",
   "id": "c22b1cc5",
   "metadata": {},
   "source": [
    "### Шаг 2.7. Категоризация целей кредита.\n",
    "В базе данных много целей получения кредита, но можно выделить 4 основных: автомобиль, недвижимость, свадьба, образование. Лемматизируем значения purpose с помощью библиотеки pymystem3, а после добавим новый столбец purpose_category с категориями целей, чтобы упростить анализ."
   ]
  },
  {
   "cell_type": "code",
   "execution_count": 19,
   "id": "efc550d9",
   "metadata": {},
   "outputs": [
    {
     "data": {
      "text/plain": [
       "свадьба                                   787\n",
       "на проведение свадьбы                     764\n",
       "сыграть свадьбу                           759\n",
       "операции с недвижимостью                  669\n",
       "покупка коммерческой недвижимости         656\n",
       "покупка жилья для сдачи                   648\n",
       "операции с коммерческой недвижимостью     643\n",
       "операции с жильем                         641\n",
       "покупка жилья для семьи                   636\n",
       "жилье                                     635\n",
       "покупка жилья                             634\n",
       "недвижимость                              627\n",
       "строительство собственной недвижимости    626\n",
       "операции со своей недвижимостью           623\n",
       "строительство недвижимости                619\n",
       "строительство жилой недвижимости          618\n",
       "покупка своего жилья                      618\n",
       "покупка недвижимости                      613\n",
       "ремонт жилью                              602\n",
       "покупка жилой недвижимости                599\n",
       "на покупку своего автомобиля              501\n",
       "заняться высшим образованием              493\n",
       "автомобиль                                487\n",
       "сделка с подержанным автомобилем          479\n",
       "автомобили                                474\n",
       "свой автомобиль                           471\n",
       "на покупку подержанного автомобиля        471\n",
       "на покупку автомобиля                     466\n",
       "приобретение автомобиля                   457\n",
       "сделка с автомобилем                      454\n",
       "дополнительное образование                453\n",
       "получение дополнительного образования     443\n",
       "высшее образование                        443\n",
       "образование                               439\n",
       "получение образования                     439\n",
       "профильное образование                    431\n",
       "получение высшего образования             423\n",
       "заняться образованием                     407\n",
       "Name: purpose, dtype: int64"
      ]
     },
     "execution_count": 19,
     "metadata": {},
     "output_type": "execute_result"
    }
   ],
   "source": [
    "data['purpose'].value_counts()"
   ]
  },
  {
   "cell_type": "code",
   "execution_count": 20,
   "id": "12491762",
   "metadata": {},
   "outputs": [
    {
     "data": {
      "text/html": [
       "<div>\n",
       "<style scoped>\n",
       "    .dataframe tbody tr th:only-of-type {\n",
       "        vertical-align: middle;\n",
       "    }\n",
       "\n",
       "    .dataframe tbody tr th {\n",
       "        vertical-align: top;\n",
       "    }\n",
       "\n",
       "    .dataframe thead th {\n",
       "        text-align: right;\n",
       "    }\n",
       "</style>\n",
       "<table border=\"1\" class=\"dataframe\">\n",
       "  <thead>\n",
       "    <tr style=\"text-align: right;\">\n",
       "      <th></th>\n",
       "      <th>children</th>\n",
       "      <th>dob_years</th>\n",
       "      <th>education</th>\n",
       "      <th>education_id</th>\n",
       "      <th>family_status</th>\n",
       "      <th>family_status_id</th>\n",
       "      <th>gender</th>\n",
       "      <th>income_type</th>\n",
       "      <th>debt</th>\n",
       "      <th>total_income</th>\n",
       "      <th>purpose</th>\n",
       "      <th>purpose_category</th>\n",
       "    </tr>\n",
       "  </thead>\n",
       "  <tbody>\n",
       "    <tr>\n",
       "      <th>0</th>\n",
       "      <td>1</td>\n",
       "      <td>42</td>\n",
       "      <td>высшее</td>\n",
       "      <td>0</td>\n",
       "      <td>женат / замужем</td>\n",
       "      <td>0</td>\n",
       "      <td>F</td>\n",
       "      <td>сотрудник</td>\n",
       "      <td>0</td>\n",
       "      <td>253875</td>\n",
       "      <td>покупка жилья</td>\n",
       "      <td>недвижимость</td>\n",
       "    </tr>\n",
       "    <tr>\n",
       "      <th>1</th>\n",
       "      <td>1</td>\n",
       "      <td>36</td>\n",
       "      <td>среднее</td>\n",
       "      <td>1</td>\n",
       "      <td>женат / замужем</td>\n",
       "      <td>0</td>\n",
       "      <td>F</td>\n",
       "      <td>сотрудник</td>\n",
       "      <td>0</td>\n",
       "      <td>112080</td>\n",
       "      <td>приобретение автомобиля</td>\n",
       "      <td>автомобиль</td>\n",
       "    </tr>\n",
       "    <tr>\n",
       "      <th>2</th>\n",
       "      <td>0</td>\n",
       "      <td>33</td>\n",
       "      <td>среднее</td>\n",
       "      <td>1</td>\n",
       "      <td>женат / замужем</td>\n",
       "      <td>0</td>\n",
       "      <td>M</td>\n",
       "      <td>сотрудник</td>\n",
       "      <td>0</td>\n",
       "      <td>145885</td>\n",
       "      <td>покупка жилья</td>\n",
       "      <td>недвижимость</td>\n",
       "    </tr>\n",
       "    <tr>\n",
       "      <th>3</th>\n",
       "      <td>3</td>\n",
       "      <td>32</td>\n",
       "      <td>среднее</td>\n",
       "      <td>1</td>\n",
       "      <td>женат / замужем</td>\n",
       "      <td>0</td>\n",
       "      <td>M</td>\n",
       "      <td>сотрудник</td>\n",
       "      <td>0</td>\n",
       "      <td>267628</td>\n",
       "      <td>дополнительное образование</td>\n",
       "      <td>образование</td>\n",
       "    </tr>\n",
       "    <tr>\n",
       "      <th>4</th>\n",
       "      <td>0</td>\n",
       "      <td>53</td>\n",
       "      <td>среднее</td>\n",
       "      <td>1</td>\n",
       "      <td>гражданский брак</td>\n",
       "      <td>1</td>\n",
       "      <td>F</td>\n",
       "      <td>пенсионер</td>\n",
       "      <td>0</td>\n",
       "      <td>158616</td>\n",
       "      <td>сыграть свадьбу</td>\n",
       "      <td>свадьба</td>\n",
       "    </tr>\n",
       "    <tr>\n",
       "      <th>5</th>\n",
       "      <td>0</td>\n",
       "      <td>27</td>\n",
       "      <td>высшее</td>\n",
       "      <td>0</td>\n",
       "      <td>гражданский брак</td>\n",
       "      <td>1</td>\n",
       "      <td>M</td>\n",
       "      <td>компаньон</td>\n",
       "      <td>0</td>\n",
       "      <td>255763</td>\n",
       "      <td>покупка жилья</td>\n",
       "      <td>недвижимость</td>\n",
       "    </tr>\n",
       "    <tr>\n",
       "      <th>6</th>\n",
       "      <td>0</td>\n",
       "      <td>43</td>\n",
       "      <td>высшее</td>\n",
       "      <td>0</td>\n",
       "      <td>женат / замужем</td>\n",
       "      <td>0</td>\n",
       "      <td>F</td>\n",
       "      <td>компаньон</td>\n",
       "      <td>0</td>\n",
       "      <td>240525</td>\n",
       "      <td>операции с жильем</td>\n",
       "      <td>недвижимость</td>\n",
       "    </tr>\n",
       "    <tr>\n",
       "      <th>7</th>\n",
       "      <td>0</td>\n",
       "      <td>50</td>\n",
       "      <td>среднее</td>\n",
       "      <td>1</td>\n",
       "      <td>женат / замужем</td>\n",
       "      <td>0</td>\n",
       "      <td>M</td>\n",
       "      <td>сотрудник</td>\n",
       "      <td>0</td>\n",
       "      <td>135823</td>\n",
       "      <td>образование</td>\n",
       "      <td>образование</td>\n",
       "    </tr>\n",
       "    <tr>\n",
       "      <th>8</th>\n",
       "      <td>2</td>\n",
       "      <td>35</td>\n",
       "      <td>высшее</td>\n",
       "      <td>0</td>\n",
       "      <td>гражданский брак</td>\n",
       "      <td>1</td>\n",
       "      <td>F</td>\n",
       "      <td>сотрудник</td>\n",
       "      <td>0</td>\n",
       "      <td>95856</td>\n",
       "      <td>на проведение свадьбы</td>\n",
       "      <td>свадьба</td>\n",
       "    </tr>\n",
       "    <tr>\n",
       "      <th>9</th>\n",
       "      <td>0</td>\n",
       "      <td>41</td>\n",
       "      <td>среднее</td>\n",
       "      <td>1</td>\n",
       "      <td>женат / замужем</td>\n",
       "      <td>0</td>\n",
       "      <td>M</td>\n",
       "      <td>сотрудник</td>\n",
       "      <td>0</td>\n",
       "      <td>144425</td>\n",
       "      <td>покупка жилья для семьи</td>\n",
       "      <td>недвижимость</td>\n",
       "    </tr>\n",
       "  </tbody>\n",
       "</table>\n",
       "</div>"
      ],
      "text/plain": [
       "   children  dob_years education  education_id     family_status  \\\n",
       "0         1         42    высшее             0   женат / замужем   \n",
       "1         1         36   среднее             1   женат / замужем   \n",
       "2         0         33   среднее             1   женат / замужем   \n",
       "3         3         32   среднее             1   женат / замужем   \n",
       "4         0         53   среднее             1  гражданский брак   \n",
       "5         0         27    высшее             0  гражданский брак   \n",
       "6         0         43    высшее             0   женат / замужем   \n",
       "7         0         50   среднее             1   женат / замужем   \n",
       "8         2         35    высшее             0  гражданский брак   \n",
       "9         0         41   среднее             1   женат / замужем   \n",
       "\n",
       "   family_status_id gender income_type  debt  total_income  \\\n",
       "0                 0      F   сотрудник     0        253875   \n",
       "1                 0      F   сотрудник     0        112080   \n",
       "2                 0      M   сотрудник     0        145885   \n",
       "3                 0      M   сотрудник     0        267628   \n",
       "4                 1      F   пенсионер     0        158616   \n",
       "5                 1      M   компаньон     0        255763   \n",
       "6                 0      F   компаньон     0        240525   \n",
       "7                 0      M   сотрудник     0        135823   \n",
       "8                 1      F   сотрудник     0         95856   \n",
       "9                 0      M   сотрудник     0        144425   \n",
       "\n",
       "                      purpose purpose_category  \n",
       "0               покупка жилья     недвижимость  \n",
       "1     приобретение автомобиля       автомобиль  \n",
       "2               покупка жилья     недвижимость  \n",
       "3  дополнительное образование      образование  \n",
       "4             сыграть свадьбу          свадьба  \n",
       "5               покупка жилья     недвижимость  \n",
       "6           операции с жильем     недвижимость  \n",
       "7                 образование      образование  \n",
       "8       на проведение свадьбы          свадьба  \n",
       "9     покупка жилья для семьи     недвижимость  "
      ]
     },
     "execution_count": 20,
     "metadata": {},
     "output_type": "execute_result"
    }
   ],
   "source": [
    "def find_category(row):\n",
    "    lemmas = m.lemmatize(row)\n",
    "    if 'автомобиль' in lemmas:\n",
    "        return 'автомобиль'\n",
    "    if 'свадьба' in lemmas:\n",
    "        return 'свадьба'\n",
    "    if 'образование'in lemmas:\n",
    "        return 'образование'\n",
    "    return 'недвижимость'\n",
    "\n",
    "data['purpose_category'] = data['purpose'].apply(find_category)\n",
    "data.head(10)"
   ]
  },
  {
   "cell_type": "markdown",
   "id": "b9a0597d",
   "metadata": {},
   "source": [
    "### Ответы на вопросы."
   ]
  },
  {
   "cell_type": "markdown",
   "id": "304a09c2",
   "metadata": {},
   "source": [
    "##### Вопрос 1: Зависимость между уровнем дохода и возвратом кредита в срок.\n",
    "Клиенты были поделены на 5 групп(равных по количеству клиентов) по уровню дохода. В результате подсчета должников по категориям, было выявлено, что уровень дохода не влияет на возврат кредита в срок. Доля должников одинаково низкая по каждому уровню дохода"
   ]
  },
  {
   "cell_type": "code",
   "execution_count": 21,
   "id": "48d7cd6c",
   "metadata": {},
   "outputs": [
    {
     "data": {
      "text/html": [
       "<div>\n",
       "<style scoped>\n",
       "    .dataframe tbody tr th:only-of-type {\n",
       "        vertical-align: middle;\n",
       "    }\n",
       "\n",
       "    .dataframe tbody tr th {\n",
       "        vertical-align: top;\n",
       "    }\n",
       "\n",
       "    .dataframe thead tr th {\n",
       "        text-align: left;\n",
       "    }\n",
       "\n",
       "    .dataframe thead tr:last-of-type th {\n",
       "        text-align: right;\n",
       "    }\n",
       "</style>\n",
       "<table border=\"1\" class=\"dataframe\">\n",
       "  <thead>\n",
       "    <tr>\n",
       "      <th></th>\n",
       "      <th>count</th>\n",
       "      <th>sum</th>\n",
       "      <th>mean</th>\n",
       "    </tr>\n",
       "    <tr>\n",
       "      <th></th>\n",
       "      <th>debt</th>\n",
       "      <th>debt</th>\n",
       "      <th>debt</th>\n",
       "    </tr>\n",
       "    <tr>\n",
       "      <th>income_groups</th>\n",
       "      <th></th>\n",
       "      <th></th>\n",
       "      <th></th>\n",
       "    </tr>\n",
       "  </thead>\n",
       "  <tbody>\n",
       "    <tr>\n",
       "      <th>A</th>\n",
       "      <td>25</td>\n",
       "      <td>2</td>\n",
       "      <td>0.080000</td>\n",
       "    </tr>\n",
       "    <tr>\n",
       "      <th>B</th>\n",
       "      <td>4987</td>\n",
       "      <td>353</td>\n",
       "      <td>0.070784</td>\n",
       "    </tr>\n",
       "    <tr>\n",
       "      <th>C</th>\n",
       "      <td>15867</td>\n",
       "      <td>1346</td>\n",
       "      <td>0.084830</td>\n",
       "    </tr>\n",
       "    <tr>\n",
       "      <th>D</th>\n",
       "      <td>347</td>\n",
       "      <td>21</td>\n",
       "      <td>0.060519</td>\n",
       "    </tr>\n",
       "    <tr>\n",
       "      <th>E</th>\n",
       "      <td>22</td>\n",
       "      <td>2</td>\n",
       "      <td>0.090909</td>\n",
       "    </tr>\n",
       "  </tbody>\n",
       "</table>\n",
       "</div>"
      ],
      "text/plain": [
       "               count   sum      mean\n",
       "                debt  debt      debt\n",
       "income_groups                       \n",
       "A                 25     2  0.080000\n",
       "B               4987   353  0.070784\n",
       "C              15867  1346  0.084830\n",
       "D                347    21  0.060519\n",
       "E                 22     2  0.090909"
      ]
     },
     "execution_count": 21,
     "metadata": {},
     "output_type": "execute_result"
    }
   ],
   "source": [
    "clients_income.pivot_table(index = 'income_groups', values = ['debt'], aggfunc = ['count','sum','mean'])"
   ]
  },
  {
   "cell_type": "markdown",
   "id": "69577e67",
   "metadata": {},
   "source": [
    "##### Вопрос 2: Зависимость между количеством детей и возвратом кредита в срок\n",
    "Доля должников с детьми составляет 9,2%, что несколько выше, чем доля должников без детей (7,5%). Таким образом, наличие детей в некоторой стпени снижает вероятность возврата кредита в срок."
   ]
  },
  {
   "cell_type": "code",
   "execution_count": 22,
   "id": "55cedeec",
   "metadata": {},
   "outputs": [
    {
     "name": "stdout",
     "output_type": "stream",
     "text": [
      "Доля должников с детьми - 9.2%\n",
      "Доля должников без детей - 7.5%\n"
     ]
    }
   ],
   "source": [
    "debt_children = data[['children', 'debt']]\n",
    "\n",
    "clients_children = debt_children.loc[debt_children['children'] > 0]\n",
    "debtors_children = clients_children.loc[clients_children['debt'] == 1]\n",
    "debtors_children_mean = len(debtors_children) / len(clients_children)\n",
    "\n",
    "clients_without_children = debt_children.loc[debt_children['children'] == 0]\n",
    "debtors_without_children = clients_without_children.loc[clients_without_children['debt'] == 1]\n",
    "debtors_without_children_mean = len(debtors_without_children) / len(clients_without_children)\n",
    "\n",
    "print('Доля должников с детьми - {:.1%}'.format(debtors_children_mean))\n",
    "print('Доля должников без детей - {:.1%}'.format(debtors_without_children_mean))"
   ]
  },
  {
   "cell_type": "markdown",
   "id": "6176738f",
   "metadata": {},
   "source": [
    "##### Вопрос 3: Зависимость между семейным положением клиента и возвратом кредита в срок.\n",
    "В группе \"не женат/не замужем\" вероятность не возврата кредита выше всего (9,8%). Наиболее низкая вероятность не возврата кредита в группе \"вдовец/вдова\" (6,6%). "
   ]
  },
  {
   "cell_type": "code",
   "execution_count": 23,
   "id": "73720874",
   "metadata": {},
   "outputs": [
    {
     "data": {
      "text/html": [
       "<div>\n",
       "<style scoped>\n",
       "    .dataframe tbody tr th:only-of-type {\n",
       "        vertical-align: middle;\n",
       "    }\n",
       "\n",
       "    .dataframe tbody tr th {\n",
       "        vertical-align: top;\n",
       "    }\n",
       "\n",
       "    .dataframe thead th {\n",
       "        text-align: right;\n",
       "    }\n",
       "</style>\n",
       "<table border=\"1\" class=\"dataframe\">\n",
       "  <thead>\n",
       "    <tr style=\"text-align: right;\">\n",
       "      <th></th>\n",
       "      <th>debt</th>\n",
       "      <th>number</th>\n",
       "      <th>mean, %</th>\n",
       "    </tr>\n",
       "    <tr>\n",
       "      <th>family_status</th>\n",
       "      <th></th>\n",
       "      <th></th>\n",
       "      <th></th>\n",
       "    </tr>\n",
       "  </thead>\n",
       "  <tbody>\n",
       "    <tr>\n",
       "      <th>Не женат / не замужем</th>\n",
       "      <td>2780</td>\n",
       "      <td>272</td>\n",
       "      <td>9.784173</td>\n",
       "    </tr>\n",
       "    <tr>\n",
       "      <th>гражданский брак</th>\n",
       "      <td>4125</td>\n",
       "      <td>383</td>\n",
       "      <td>9.284848</td>\n",
       "    </tr>\n",
       "    <tr>\n",
       "      <th>женат / замужем</th>\n",
       "      <td>12218</td>\n",
       "      <td>923</td>\n",
       "      <td>7.554428</td>\n",
       "    </tr>\n",
       "    <tr>\n",
       "      <th>в разводе</th>\n",
       "      <td>1179</td>\n",
       "      <td>84</td>\n",
       "      <td>7.124682</td>\n",
       "    </tr>\n",
       "    <tr>\n",
       "      <th>вдовец / вдова</th>\n",
       "      <td>946</td>\n",
       "      <td>62</td>\n",
       "      <td>6.553911</td>\n",
       "    </tr>\n",
       "  </tbody>\n",
       "</table>\n",
       "</div>"
      ],
      "text/plain": [
       "                        debt  number   mean, %\n",
       "family_status                                 \n",
       "Не женат / не замужем   2780     272  9.784173\n",
       "гражданский брак        4125     383  9.284848\n",
       "женат / замужем        12218     923  7.554428\n",
       "в разводе               1179      84  7.124682\n",
       "вдовец / вдова           946      62  6.553911"
      ]
     },
     "execution_count": 23,
     "metadata": {},
     "output_type": "execute_result"
    }
   ],
   "source": [
    "debtors_family_status = data[['family_status', 'debt']]\n",
    "debtors_family_status_grouped = debtors_family_status.groupby('family_status').count()\n",
    "debtors_family_status_grouped['number'] = debtors_family_status.loc[debtors_family_status['debt'] == 1].groupby('family_status').sum()\n",
    "debtors_family_status_grouped['mean, %'] = debtors_family_status_grouped['number'] / debtors_family_status_grouped['debt'] * 100\n",
    "debtors_family_status_grouped.sort_values('mean, %', ascending=False)"
   ]
  },
  {
   "cell_type": "markdown",
   "id": "bc9d8d69",
   "metadata": {},
   "source": [
    "##### Вопрос 4: Зависимость между целью кредита и возвратом в срок.\n",
    "Чаще всего должниками в абсолюнтых величинах становятся в результате взятия кредита на проведение свадьбы. После групировки данных по категориям целей кредита наибольшая доля должников была зафиксирована в категориях \"автомобиль\" (9,3%) и \"образование\" (9,3%)."
   ]
  },
  {
   "cell_type": "code",
   "execution_count": 24,
   "id": "c26d09dd",
   "metadata": {},
   "outputs": [
    {
     "data": {
      "text/html": [
       "<div>\n",
       "<style scoped>\n",
       "    .dataframe tbody tr th:only-of-type {\n",
       "        vertical-align: middle;\n",
       "    }\n",
       "\n",
       "    .dataframe tbody tr th {\n",
       "        vertical-align: top;\n",
       "    }\n",
       "\n",
       "    .dataframe thead th {\n",
       "        text-align: right;\n",
       "    }\n",
       "</style>\n",
       "<table border=\"1\" class=\"dataframe\">\n",
       "  <thead>\n",
       "    <tr style=\"text-align: right;\">\n",
       "      <th></th>\n",
       "      <th></th>\n",
       "      <th>debt</th>\n",
       "    </tr>\n",
       "    <tr>\n",
       "      <th>purpose_category</th>\n",
       "      <th>purpose</th>\n",
       "      <th></th>\n",
       "    </tr>\n",
       "  </thead>\n",
       "  <tbody>\n",
       "    <tr>\n",
       "      <th rowspan=\"3\" valign=\"top\">свадьба</th>\n",
       "      <th>свадьба</th>\n",
       "      <td>63</td>\n",
       "    </tr>\n",
       "    <tr>\n",
       "      <th>на проведение свадьбы</th>\n",
       "      <td>61</td>\n",
       "    </tr>\n",
       "    <tr>\n",
       "      <th>сыграть свадьбу</th>\n",
       "      <td>57</td>\n",
       "    </tr>\n",
       "    <tr>\n",
       "      <th rowspan=\"4\" valign=\"top\">недвижимость</th>\n",
       "      <th>операции с недвижимостью</th>\n",
       "      <td>55</td>\n",
       "    </tr>\n",
       "    <tr>\n",
       "      <th>строительство недвижимости</th>\n",
       "      <td>54</td>\n",
       "    </tr>\n",
       "    <tr>\n",
       "      <th>покупка жилья для сдачи</th>\n",
       "      <td>52</td>\n",
       "    </tr>\n",
       "    <tr>\n",
       "      <th>операции с коммерческой недвижимостью</th>\n",
       "      <td>52</td>\n",
       "    </tr>\n",
       "    <tr>\n",
       "      <th>образование</th>\n",
       "      <th>получение дополнительного образования</th>\n",
       "      <td>51</td>\n",
       "    </tr>\n",
       "    <tr>\n",
       "      <th rowspan=\"2\" valign=\"top\">автомобиль</th>\n",
       "      <th>сделка с подержанным автомобилем</th>\n",
       "      <td>51</td>\n",
       "    </tr>\n",
       "    <tr>\n",
       "      <th>сделка с автомобилем</th>\n",
       "      <td>50</td>\n",
       "    </tr>\n",
       "  </tbody>\n",
       "</table>\n",
       "</div>"
      ],
      "text/plain": [
       "                                                        debt\n",
       "purpose_category purpose                                    \n",
       "свадьба          свадьба                                  63\n",
       "                 на проведение свадьбы                    61\n",
       "                 сыграть свадьбу                          57\n",
       "недвижимость     операции с недвижимостью                 55\n",
       "                 строительство недвижимости               54\n",
       "                 покупка жилья для сдачи                  52\n",
       "                 операции с коммерческой недвижимостью    52\n",
       "образование      получение дополнительного образования    51\n",
       "автомобиль       сделка с подержанным автомобилем         51\n",
       "                 сделка с автомобилем                     50"
      ]
     },
     "execution_count": 24,
     "metadata": {},
     "output_type": "execute_result"
    }
   ],
   "source": [
    "bank_clients_purpose = data.pivot_table(index=['purpose_category', 'purpose'], values='debt', aggfunc='sum')\n",
    "bank_clients_purpose.sort_values('debt', ascending=False).head(10)"
   ]
  },
  {
   "cell_type": "code",
   "execution_count": 25,
   "id": "1a926138",
   "metadata": {},
   "outputs": [
    {
     "data": {
      "text/html": [
       "<div>\n",
       "<style scoped>\n",
       "    .dataframe tbody tr th:only-of-type {\n",
       "        vertical-align: middle;\n",
       "    }\n",
       "\n",
       "    .dataframe tbody tr th {\n",
       "        vertical-align: top;\n",
       "    }\n",
       "\n",
       "    .dataframe thead th {\n",
       "        text-align: right;\n",
       "    }\n",
       "</style>\n",
       "<table border=\"1\" class=\"dataframe\">\n",
       "  <thead>\n",
       "    <tr style=\"text-align: right;\">\n",
       "      <th></th>\n",
       "      <th>debt</th>\n",
       "      <th>number</th>\n",
       "      <th>mean, %</th>\n",
       "    </tr>\n",
       "    <tr>\n",
       "      <th>purpose_category</th>\n",
       "      <th></th>\n",
       "      <th></th>\n",
       "      <th></th>\n",
       "    </tr>\n",
       "  </thead>\n",
       "  <tbody>\n",
       "    <tr>\n",
       "      <th>автомобиль</th>\n",
       "      <td>4260</td>\n",
       "      <td>397</td>\n",
       "      <td>9.319249</td>\n",
       "    </tr>\n",
       "    <tr>\n",
       "      <th>недвижимость</th>\n",
       "      <td>10707</td>\n",
       "      <td>777</td>\n",
       "      <td>7.256935</td>\n",
       "    </tr>\n",
       "    <tr>\n",
       "      <th>образование</th>\n",
       "      <td>3971</td>\n",
       "      <td>369</td>\n",
       "      <td>9.292370</td>\n",
       "    </tr>\n",
       "    <tr>\n",
       "      <th>свадьба</th>\n",
       "      <td>2310</td>\n",
       "      <td>181</td>\n",
       "      <td>7.835498</td>\n",
       "    </tr>\n",
       "  </tbody>\n",
       "</table>\n",
       "</div>"
      ],
      "text/plain": [
       "                   debt  number   mean, %\n",
       "purpose_category                         \n",
       "автомобиль         4260     397  9.319249\n",
       "недвижимость      10707     777  7.256935\n",
       "образование        3971     369  9.292370\n",
       "свадьба            2310     181  7.835498"
      ]
     },
     "metadata": {},
     "output_type": "display_data"
    }
   ],
   "source": [
    "debt_purpose = data[['purpose_category', 'debt']]\n",
    "debt_purpose_grouped = debt_purpose.groupby('purpose_category').count()\n",
    "debt_purpose_grouped['number'] = debt_purpose.loc[debt_purpose['debt'] == 1].groupby('purpose_category').sum()\n",
    "debt_purpose_grouped['mean, %'] = debt_purpose_grouped['number'] / debt_purpose_grouped['debt'] * 100\n",
    "debt_purpose_grouped[['mean, %']].sort_values('mean, %', ascending=False)\n",
    "display(debt_purpose_grouped)"
   ]
  },
  {
   "cell_type": "markdown",
   "id": "0cfa541f",
   "metadata": {},
   "source": [
    "## Общий вывод:"
   ]
  },
  {
   "cell_type": "markdown",
   "id": "e35cb262",
   "metadata": {},
   "source": [
    "Задачей исследования было выявить, влияет ли семейное положение и количетсво детей на погашение кредита в срок. Также дополнительно было изучено влияние уровня дохода на возвращение кредита в срок, а также цели кредита на возвращение его в срок.\n",
    "\n",
    "В ходе анализа были сделаны следующие выводы:\n",
    "\n",
    "1. Уровень дохода не оказывает влияния на возврат кредита в срок. Доля должников оказалась одинаково низкой во всех категориях клиентов по уровню дохода.\n",
    "2. Доля должников с детьми составляет 9,2%, что несколько выше, чем доля должников без детей (7,5%). Таким образом, наличие детей в некоторой стпени снижает вероятность возврата кредита в срок. \n",
    "3. Есть зависимость между возвратом кредита в срок и семейным положением. Выше доля должников среди незамужних/неженатых людей.\n",
    "4. Выявлена зависимость между целями кредита и возвратом их в срок. Выше доля должников среди тех, кто взял кредит на покупку автомобиля или образование. \n",
    "\n",
    "Примечания по качеству данных: данные по опыту работы были неправдоподобными (были выявлены отрицательные значения, не установлена размерность в которой приведены данные), поэтому их пришлось удалить и не использовать в анализе. Также были пропуски в данных по доходу клиентов, они были заполнены медианным значением, в связи с чем, в исследовании есть некоторые допущения. "
   ]
  }
 ],
 "metadata": {
  "ExecuteTimeLog": [
   {
    "duration": 3030,
    "start_time": "2022-02-25T12:06:24.587Z"
   },
   {
    "duration": 3365,
    "start_time": "2022-02-25T12:06:49.831Z"
   },
   {
    "duration": 5991,
    "start_time": "2022-02-25T12:07:06.047Z"
   },
   {
    "duration": 769,
    "start_time": "2022-02-25T12:07:28.247Z"
   },
   {
    "duration": 60,
    "start_time": "2022-02-25T12:07:44.623Z"
   },
   {
    "duration": 55,
    "start_time": "2022-02-25T12:09:17.439Z"
   },
   {
    "duration": 12,
    "start_time": "2022-02-25T12:09:28.543Z"
   },
   {
    "duration": 14,
    "start_time": "2022-02-25T12:23:26.353Z"
   },
   {
    "duration": 18,
    "start_time": "2022-02-25T12:23:39.515Z"
   },
   {
    "duration": 54,
    "start_time": "2022-02-25T12:23:50.464Z"
   },
   {
    "duration": 53,
    "start_time": "2022-02-25T12:24:29.354Z"
   },
   {
    "duration": 69,
    "start_time": "2022-02-27T10:52:37.871Z"
   },
   {
    "duration": 261,
    "start_time": "2022-02-27T10:52:51.816Z"
   },
   {
    "duration": 802,
    "start_time": "2022-02-27T10:52:59.807Z"
   },
   {
    "duration": 267,
    "start_time": "2022-02-27T10:53:03.497Z"
   },
   {
    "duration": 5412,
    "start_time": "2022-02-27T10:53:21.005Z"
   },
   {
    "duration": 268,
    "start_time": "2022-02-27T10:53:33.498Z"
   },
   {
    "duration": 28,
    "start_time": "2022-02-27T10:53:50.190Z"
   },
   {
    "duration": 31,
    "start_time": "2022-02-27T11:01:37.979Z"
   },
   {
    "duration": 16,
    "start_time": "2022-02-27T11:02:26.050Z"
   },
   {
    "duration": 62,
    "start_time": "2022-02-27T11:04:40.802Z"
   },
   {
    "duration": 67,
    "start_time": "2022-02-27T11:05:49.261Z"
   },
   {
    "duration": 7,
    "start_time": "2022-02-27T11:17:22.380Z"
   },
   {
    "duration": 209,
    "start_time": "2022-02-27T11:18:13.236Z"
   },
   {
    "duration": 540,
    "start_time": "2022-02-27T11:18:47.855Z"
   },
   {
    "duration": 400,
    "start_time": "2022-02-27T11:18:57.341Z"
   },
   {
    "duration": 57,
    "start_time": "2022-02-27T11:19:37.979Z"
   },
   {
    "duration": 65,
    "start_time": "2022-02-27T11:19:47.972Z"
   },
   {
    "duration": 6,
    "start_time": "2022-02-27T11:24:46.521Z"
   },
   {
    "duration": 220,
    "start_time": "2022-02-27T11:25:10.769Z"
   },
   {
    "duration": 10,
    "start_time": "2022-02-27T11:25:19.594Z"
   },
   {
    "duration": 8,
    "start_time": "2022-02-27T11:25:26.235Z"
   },
   {
    "duration": 8,
    "start_time": "2022-02-27T11:25:38.100Z"
   },
   {
    "duration": 25,
    "start_time": "2022-02-27T11:26:24.245Z"
   },
   {
    "duration": 8,
    "start_time": "2022-02-27T11:26:50.785Z"
   },
   {
    "duration": 24,
    "start_time": "2022-02-27T11:26:54.509Z"
   },
   {
    "duration": 8,
    "start_time": "2022-02-27T11:28:45.877Z"
   },
   {
    "duration": 272,
    "start_time": "2022-02-27T11:30:33.227Z"
   },
   {
    "duration": 18,
    "start_time": "2022-02-27T11:31:10.273Z"
   },
   {
    "duration": 232,
    "start_time": "2022-02-27T11:35:15.975Z"
   },
   {
    "duration": 217,
    "start_time": "2022-02-27T11:35:36.338Z"
   },
   {
    "duration": 24,
    "start_time": "2022-02-27T11:36:14.203Z"
   },
   {
    "duration": 53,
    "start_time": "2022-02-27T11:37:02.916Z"
   },
   {
    "duration": 202,
    "start_time": "2022-02-27T11:38:24.268Z"
   },
   {
    "duration": 9,
    "start_time": "2022-02-27T11:38:32.561Z"
   },
   {
    "duration": 23,
    "start_time": "2022-02-27T11:39:09.505Z"
   },
   {
    "duration": 767,
    "start_time": "2022-03-01T10:54:25.074Z"
   },
   {
    "duration": 23,
    "start_time": "2022-03-01T10:54:29.220Z"
   },
   {
    "duration": 6,
    "start_time": "2022-03-01T10:54:32.831Z"
   },
   {
    "duration": 9,
    "start_time": "2022-03-01T10:54:35.511Z"
   },
   {
    "duration": 21,
    "start_time": "2022-03-01T10:54:37.020Z"
   },
   {
    "duration": 17,
    "start_time": "2022-03-01T10:54:38.516Z"
   },
   {
    "duration": 15,
    "start_time": "2022-03-01T10:54:42.461Z"
   },
   {
    "duration": 55,
    "start_time": "2022-03-01T10:54:46.385Z"
   },
   {
    "duration": 9,
    "start_time": "2022-03-01T10:54:49.565Z"
   },
   {
    "duration": 22,
    "start_time": "2022-03-01T10:54:52.646Z"
   },
   {
    "duration": 670,
    "start_time": "2022-03-05T11:16:11.816Z"
   },
   {
    "duration": 19,
    "start_time": "2022-03-05T11:16:12.488Z"
   },
   {
    "duration": 5,
    "start_time": "2022-03-05T11:16:12.509Z"
   },
   {
    "duration": 9,
    "start_time": "2022-03-05T11:16:12.516Z"
   },
   {
    "duration": 17,
    "start_time": "2022-03-05T11:16:12.528Z"
   },
   {
    "duration": 36,
    "start_time": "2022-03-05T11:16:12.547Z"
   },
   {
    "duration": 13,
    "start_time": "2022-03-05T11:16:12.586Z"
   },
   {
    "duration": 43,
    "start_time": "2022-03-05T11:16:12.602Z"
   },
   {
    "duration": 36,
    "start_time": "2022-03-05T11:16:12.648Z"
   },
   {
    "duration": 20,
    "start_time": "2022-03-05T11:16:12.686Z"
   },
   {
    "duration": 643,
    "start_time": "2022-03-06T16:34:41.840Z"
   },
   {
    "duration": 19,
    "start_time": "2022-03-06T16:34:42.486Z"
   },
   {
    "duration": 5,
    "start_time": "2022-03-06T16:34:42.508Z"
   },
   {
    "duration": 9,
    "start_time": "2022-03-06T16:34:42.514Z"
   },
   {
    "duration": 15,
    "start_time": "2022-03-06T16:34:42.525Z"
   },
   {
    "duration": 44,
    "start_time": "2022-03-06T16:34:42.542Z"
   },
   {
    "duration": 11,
    "start_time": "2022-03-06T16:34:42.587Z"
   },
   {
    "duration": 41,
    "start_time": "2022-03-06T16:34:42.600Z"
   },
   {
    "duration": 7,
    "start_time": "2022-03-06T16:34:42.643Z"
   },
   {
    "duration": 41,
    "start_time": "2022-03-06T16:34:42.652Z"
   },
   {
    "duration": 9,
    "start_time": "2022-03-06T16:35:01.781Z"
   },
   {
    "duration": 3538,
    "start_time": "2022-03-06T16:36:08.958Z"
   },
   {
    "duration": 16,
    "start_time": "2022-03-06T16:38:35.080Z"
   },
   {
    "duration": 13,
    "start_time": "2022-03-06T16:38:54.533Z"
   },
   {
    "duration": 14,
    "start_time": "2022-03-06T16:40:21.783Z"
   },
   {
    "duration": 4,
    "start_time": "2022-03-06T16:44:14.231Z"
   },
   {
    "duration": 8,
    "start_time": "2022-03-06T16:45:38.914Z"
   },
   {
    "duration": 3443,
    "start_time": "2022-03-06T16:45:55.193Z"
   },
   {
    "duration": 19,
    "start_time": "2022-03-06T16:48:39.833Z"
   },
   {
    "duration": 351,
    "start_time": "2022-03-06T16:55:14.920Z"
   },
   {
    "duration": 252,
    "start_time": "2022-03-06T16:55:37.445Z"
   },
   {
    "duration": 11,
    "start_time": "2022-03-06T16:56:01.406Z"
   },
   {
    "duration": 20,
    "start_time": "2022-03-06T17:16:57.852Z"
   },
   {
    "duration": 253,
    "start_time": "2022-03-06T17:19:45.381Z"
   },
   {
    "duration": 23,
    "start_time": "2022-03-06T17:20:40.533Z"
   },
   {
    "duration": 21,
    "start_time": "2022-03-06T17:22:08.650Z"
   },
   {
    "duration": 651,
    "start_time": "2022-03-14T15:34:12.083Z"
   },
   {
    "duration": 15,
    "start_time": "2022-03-14T15:34:12.735Z"
   },
   {
    "duration": 4,
    "start_time": "2022-03-14T15:34:12.752Z"
   },
   {
    "duration": 8,
    "start_time": "2022-03-14T15:34:12.758Z"
   },
   {
    "duration": 13,
    "start_time": "2022-03-14T15:34:12.768Z"
   },
   {
    "duration": 27,
    "start_time": "2022-03-14T15:34:12.783Z"
   },
   {
    "duration": 10,
    "start_time": "2022-03-14T15:34:12.811Z"
   },
   {
    "duration": 32,
    "start_time": "2022-03-14T15:34:12.823Z"
   },
   {
    "duration": 6,
    "start_time": "2022-03-14T15:34:12.856Z"
   },
   {
    "duration": 43,
    "start_time": "2022-03-14T15:34:12.864Z"
   },
   {
    "duration": 28,
    "start_time": "2022-03-14T15:34:12.908Z"
   },
   {
    "duration": 3,
    "start_time": "2022-03-14T15:34:12.937Z"
   },
   {
    "duration": 8,
    "start_time": "2022-03-14T15:34:12.941Z"
   },
   {
    "duration": 3475,
    "start_time": "2022-03-14T15:34:12.951Z"
   },
   {
    "duration": 15,
    "start_time": "2022-03-14T15:34:16.428Z"
   },
   {
    "duration": 8,
    "start_time": "2022-03-14T15:34:16.445Z"
   },
   {
    "duration": 17,
    "start_time": "2022-03-14T15:34:16.455Z"
   },
   {
    "duration": 37,
    "start_time": "2022-03-14T15:34:16.473Z"
   },
   {
    "duration": 16,
    "start_time": "2022-03-14T15:34:16.511Z"
   },
   {
    "duration": 19,
    "start_time": "2022-03-14T16:08:36.389Z"
   },
   {
    "duration": 383,
    "start_time": "2022-03-14T16:28:12.092Z"
   },
   {
    "duration": 311,
    "start_time": "2022-03-14T16:28:16.210Z"
   },
   {
    "duration": 332,
    "start_time": "2022-03-14T16:28:19.286Z"
   },
   {
    "duration": 314,
    "start_time": "2022-03-14T16:28:28.107Z"
   },
   {
    "duration": 304,
    "start_time": "2022-03-14T16:28:31.616Z"
   },
   {
    "duration": 318,
    "start_time": "2022-03-14T16:28:51.927Z"
   },
   {
    "duration": 6,
    "start_time": "2022-03-14T16:29:16.491Z"
   },
   {
    "duration": 665,
    "start_time": "2022-03-14T16:58:20.637Z"
   },
   {
    "duration": 17,
    "start_time": "2022-03-14T16:58:21.303Z"
   },
   {
    "duration": 4,
    "start_time": "2022-03-14T16:58:21.322Z"
   },
   {
    "duration": 7,
    "start_time": "2022-03-14T16:58:21.328Z"
   },
   {
    "duration": 14,
    "start_time": "2022-03-14T16:58:21.337Z"
   },
   {
    "duration": 12,
    "start_time": "2022-03-14T16:58:21.352Z"
   },
   {
    "duration": 41,
    "start_time": "2022-03-14T16:58:21.365Z"
   },
   {
    "duration": 39,
    "start_time": "2022-03-14T16:58:21.408Z"
   },
   {
    "duration": 7,
    "start_time": "2022-03-14T16:58:21.449Z"
   },
   {
    "duration": 17,
    "start_time": "2022-03-14T16:58:21.458Z"
   },
   {
    "duration": 35,
    "start_time": "2022-03-14T16:58:21.477Z"
   },
   {
    "duration": 3,
    "start_time": "2022-03-14T16:58:21.514Z"
   },
   {
    "duration": 9,
    "start_time": "2022-03-14T16:58:21.518Z"
   },
   {
    "duration": 3321,
    "start_time": "2022-03-14T16:58:21.529Z"
   },
   {
    "duration": 16,
    "start_time": "2022-03-14T16:58:24.852Z"
   },
   {
    "duration": 9,
    "start_time": "2022-03-14T16:58:24.870Z"
   },
   {
    "duration": 36,
    "start_time": "2022-03-14T16:58:24.881Z"
   },
   {
    "duration": 20,
    "start_time": "2022-03-14T16:58:24.919Z"
   },
   {
    "duration": 18,
    "start_time": "2022-03-14T16:58:24.941Z"
   },
   {
    "duration": 772,
    "start_time": "2022-03-16T06:09:09.554Z"
   },
   {
    "duration": 13,
    "start_time": "2022-03-16T06:09:24.296Z"
   },
   {
    "duration": 18,
    "start_time": "2022-03-16T06:10:32.314Z"
   },
   {
    "duration": 7,
    "start_time": "2022-03-16T06:10:36.193Z"
   },
   {
    "duration": 10,
    "start_time": "2022-03-16T06:10:38.960Z"
   },
   {
    "duration": 24,
    "start_time": "2022-03-16T06:10:42.227Z"
   },
   {
    "duration": 20,
    "start_time": "2022-03-16T06:10:44.378Z"
   },
   {
    "duration": 16,
    "start_time": "2022-03-16T06:11:03.423Z"
   },
   {
    "duration": 55,
    "start_time": "2022-03-16T06:11:45.711Z"
   },
   {
    "duration": 10,
    "start_time": "2022-03-16T06:11:55.749Z"
   },
   {
    "duration": 27,
    "start_time": "2022-03-16T06:11:59.157Z"
   },
   {
    "duration": 4,
    "start_time": "2022-03-16T06:16:36.836Z"
   },
   {
    "duration": 69,
    "start_time": "2022-03-16T06:17:38.102Z"
   },
   {
    "duration": 13,
    "start_time": "2022-03-16T06:17:38.173Z"
   },
   {
    "duration": 31,
    "start_time": "2022-03-16T06:17:38.189Z"
   },
   {
    "duration": 7,
    "start_time": "2022-03-16T06:17:38.223Z"
   },
   {
    "duration": 24,
    "start_time": "2022-03-16T06:17:38.232Z"
   },
   {
    "duration": 22,
    "start_time": "2022-03-16T06:17:38.259Z"
   },
   {
    "duration": 17,
    "start_time": "2022-03-16T06:17:38.283Z"
   },
   {
    "duration": 52,
    "start_time": "2022-03-16T06:17:38.303Z"
   },
   {
    "duration": 51,
    "start_time": "2022-03-16T06:17:38.358Z"
   },
   {
    "duration": 8,
    "start_time": "2022-03-16T06:17:38.412Z"
   },
   {
    "duration": 44,
    "start_time": "2022-03-16T06:17:38.422Z"
   },
   {
    "duration": 7,
    "start_time": "2022-03-16T06:17:38.468Z"
   },
   {
    "duration": 13,
    "start_time": "2022-03-16T06:17:38.477Z"
   },
   {
    "duration": 4396,
    "start_time": "2022-03-16T06:17:38.493Z"
   },
   {
    "duration": 25,
    "start_time": "2022-03-16T06:17:42.891Z"
   },
   {
    "duration": 38,
    "start_time": "2022-03-16T06:17:42.918Z"
   },
   {
    "duration": 28,
    "start_time": "2022-03-16T06:17:42.958Z"
   },
   {
    "duration": 29,
    "start_time": "2022-03-16T06:17:42.988Z"
   },
   {
    "duration": 52,
    "start_time": "2022-03-16T06:17:43.019Z"
   },
   {
    "duration": 15,
    "start_time": "2022-03-16T06:19:47.508Z"
   },
   {
    "duration": 16,
    "start_time": "2022-03-16T06:22:02.363Z"
   },
   {
    "duration": 95,
    "start_time": "2022-03-16T06:23:20.598Z"
   },
   {
    "duration": 11,
    "start_time": "2022-03-16T06:23:20.696Z"
   },
   {
    "duration": 16,
    "start_time": "2022-03-16T06:23:20.710Z"
   },
   {
    "duration": 6,
    "start_time": "2022-03-16T06:23:20.752Z"
   },
   {
    "duration": 15,
    "start_time": "2022-03-16T06:23:20.760Z"
   },
   {
    "duration": 22,
    "start_time": "2022-03-16T06:23:20.777Z"
   },
   {
    "duration": 18,
    "start_time": "2022-03-16T06:23:20.801Z"
   },
   {
    "duration": 44,
    "start_time": "2022-03-16T06:23:20.821Z"
   },
   {
    "duration": 52,
    "start_time": "2022-03-16T06:23:20.869Z"
   },
   {
    "duration": 34,
    "start_time": "2022-03-16T06:23:20.923Z"
   },
   {
    "duration": 24,
    "start_time": "2022-03-16T06:23:20.959Z"
   },
   {
    "duration": 6,
    "start_time": "2022-03-16T06:23:20.986Z"
   },
   {
    "duration": 16,
    "start_time": "2022-03-16T06:23:20.996Z"
   },
   {
    "duration": 43,
    "start_time": "2022-03-16T06:23:21.015Z"
   },
   {
    "duration": 4935,
    "start_time": "2022-03-16T06:23:21.060Z"
   },
   {
    "duration": 16,
    "start_time": "2022-03-16T06:23:25.998Z"
   },
   {
    "duration": 39,
    "start_time": "2022-03-16T06:23:26.016Z"
   },
   {
    "duration": 25,
    "start_time": "2022-03-16T06:23:26.058Z"
   },
   {
    "duration": 28,
    "start_time": "2022-03-16T06:23:26.085Z"
   },
   {
    "duration": 55,
    "start_time": "2022-03-16T06:23:26.116Z"
   },
   {
    "duration": 3771,
    "start_time": "2022-03-16T06:23:39.552Z"
   },
   {
    "duration": 30,
    "start_time": "2022-03-16T06:28:13.476Z"
   },
   {
    "duration": 5041,
    "start_time": "2022-03-16T06:38:29.705Z"
   },
   {
    "duration": 36,
    "start_time": "2022-03-16T06:39:59.624Z"
   },
   {
    "duration": 20,
    "start_time": "2022-03-16T06:40:17.424Z"
   },
   {
    "duration": 25,
    "start_time": "2022-03-16T06:42:45.130Z"
   },
   {
    "duration": 22,
    "start_time": "2022-03-16T06:47:34.401Z"
   },
   {
    "duration": 22,
    "start_time": "2022-03-16T06:48:35.509Z"
   },
   {
    "duration": 28,
    "start_time": "2022-03-16T06:49:00.818Z"
   },
   {
    "duration": 23,
    "start_time": "2022-03-16T06:49:12.240Z"
   },
   {
    "duration": 4072,
    "start_time": "2022-03-16T06:49:19.118Z"
   },
   {
    "duration": 21,
    "start_time": "2022-03-16T06:49:29.635Z"
   },
   {
    "duration": 15,
    "start_time": "2022-03-16T06:50:17.463Z"
   },
   {
    "duration": 23,
    "start_time": "2022-03-16T06:50:23.203Z"
   },
   {
    "duration": 23,
    "start_time": "2022-03-16T06:50:38.275Z"
   },
   {
    "duration": 26,
    "start_time": "2022-03-16T06:53:24.389Z"
   },
   {
    "duration": 22,
    "start_time": "2022-03-16T06:53:47.004Z"
   },
   {
    "duration": 23,
    "start_time": "2022-03-16T06:53:58.761Z"
   },
   {
    "duration": 23,
    "start_time": "2022-03-16T06:54:18.024Z"
   },
   {
    "duration": 23,
    "start_time": "2022-03-16T06:54:31.794Z"
   },
   {
    "duration": 157,
    "start_time": "2022-03-16T06:54:49.478Z"
   },
   {
    "duration": 24,
    "start_time": "2022-03-16T06:54:58.044Z"
   },
   {
    "duration": 41,
    "start_time": "2022-03-16T06:55:11.915Z"
   },
   {
    "duration": 58,
    "start_time": "2022-03-16T07:04:03.786Z"
   },
   {
    "duration": 51,
    "start_time": "2022-03-16T07:06:47.767Z"
   },
   {
    "duration": 24,
    "start_time": "2022-03-16T07:06:56.126Z"
   },
   {
    "duration": 724,
    "start_time": "2022-03-16T15:47:48.354Z"
   },
   {
    "duration": 9,
    "start_time": "2022-03-16T15:47:49.079Z"
   },
   {
    "duration": 18,
    "start_time": "2022-03-16T15:47:49.090Z"
   },
   {
    "duration": 5,
    "start_time": "2022-03-16T15:47:49.110Z"
   },
   {
    "duration": 9,
    "start_time": "2022-03-16T15:47:49.117Z"
   },
   {
    "duration": 30,
    "start_time": "2022-03-16T15:47:49.128Z"
   },
   {
    "duration": 11,
    "start_time": "2022-03-16T15:47:49.160Z"
   },
   {
    "duration": 11,
    "start_time": "2022-03-16T15:47:49.181Z"
   },
   {
    "duration": 32,
    "start_time": "2022-03-16T15:47:49.196Z"
   },
   {
    "duration": 6,
    "start_time": "2022-03-16T15:47:49.230Z"
   },
   {
    "duration": 34,
    "start_time": "2022-03-16T15:47:49.237Z"
   },
   {
    "duration": 16,
    "start_time": "2022-03-16T15:47:49.273Z"
   },
   {
    "duration": 19,
    "start_time": "2022-03-16T15:47:49.290Z"
   },
   {
    "duration": 11,
    "start_time": "2022-03-16T15:47:49.310Z"
   },
   {
    "duration": 3516,
    "start_time": "2022-03-16T15:47:49.323Z"
   },
   {
    "duration": 20,
    "start_time": "2022-03-16T15:47:52.841Z"
   },
   {
    "duration": 26,
    "start_time": "2022-03-16T15:47:52.862Z"
   },
   {
    "duration": 15,
    "start_time": "2022-03-16T15:47:52.890Z"
   },
   {
    "duration": 18,
    "start_time": "2022-03-16T15:47:52.906Z"
   },
   {
    "duration": 16,
    "start_time": "2022-03-16T15:47:52.925Z"
   },
   {
    "duration": 599,
    "start_time": "2022-03-16T16:17:09.532Z"
   },
   {
    "duration": 9,
    "start_time": "2022-03-16T16:17:10.132Z"
   },
   {
    "duration": 13,
    "start_time": "2022-03-16T16:17:10.143Z"
   },
   {
    "duration": 5,
    "start_time": "2022-03-16T16:17:10.158Z"
   },
   {
    "duration": 22,
    "start_time": "2022-03-16T16:17:10.165Z"
   },
   {
    "duration": 15,
    "start_time": "2022-03-16T16:17:10.189Z"
   },
   {
    "duration": 14,
    "start_time": "2022-03-16T16:17:10.206Z"
   },
   {
    "duration": 10,
    "start_time": "2022-03-16T16:17:10.222Z"
   },
   {
    "duration": 66,
    "start_time": "2022-03-16T16:17:10.233Z"
   },
   {
    "duration": 7,
    "start_time": "2022-03-16T16:17:10.301Z"
   },
   {
    "duration": 23,
    "start_time": "2022-03-16T16:17:10.310Z"
   },
   {
    "duration": 4,
    "start_time": "2022-03-16T16:17:10.334Z"
   },
   {
    "duration": 11,
    "start_time": "2022-03-16T16:17:10.340Z"
   },
   {
    "duration": 7,
    "start_time": "2022-03-16T16:17:10.352Z"
   },
   {
    "duration": 3808,
    "start_time": "2022-03-16T16:17:10.380Z"
   },
   {
    "duration": 9,
    "start_time": "2022-03-16T16:17:20.790Z"
   },
   {
    "duration": 12,
    "start_time": "2022-03-16T16:17:49.439Z"
   },
   {
    "duration": 456,
    "start_time": "2022-03-16T16:18:29.170Z"
   },
   {
    "duration": 291,
    "start_time": "2022-03-16T16:18:31.812Z"
   },
   {
    "duration": 22,
    "start_time": "2022-03-16T16:18:42.788Z"
   },
   {
    "duration": 15,
    "start_time": "2022-03-16T16:57:10.566Z"
   },
   {
    "duration": 12,
    "start_time": "2022-03-16T17:03:15.548Z"
   },
   {
    "duration": 17,
    "start_time": "2022-03-16T17:03:20.115Z"
   },
   {
    "duration": 18,
    "start_time": "2022-03-16T17:11:37.759Z"
   },
   {
    "duration": 19,
    "start_time": "2022-03-16T17:11:42.894Z"
   },
   {
    "duration": 830,
    "start_time": "2022-03-16T17:15:51.501Z"
   },
   {
    "duration": 13,
    "start_time": "2022-03-16T17:15:52.333Z"
   },
   {
    "duration": 17,
    "start_time": "2022-03-16T17:15:52.348Z"
   },
   {
    "duration": 16,
    "start_time": "2022-03-16T17:15:52.367Z"
   },
   {
    "duration": 14,
    "start_time": "2022-03-16T17:15:52.386Z"
   },
   {
    "duration": 20,
    "start_time": "2022-03-16T17:15:52.403Z"
   },
   {
    "duration": 11,
    "start_time": "2022-03-16T17:15:52.424Z"
   },
   {
    "duration": 10,
    "start_time": "2022-03-16T17:15:52.437Z"
   },
   {
    "duration": 83,
    "start_time": "2022-03-16T17:15:52.450Z"
   },
   {
    "duration": 7,
    "start_time": "2022-03-16T17:15:52.534Z"
   },
   {
    "duration": 25,
    "start_time": "2022-03-16T17:15:52.542Z"
   },
   {
    "duration": 18,
    "start_time": "2022-03-16T17:15:52.581Z"
   },
   {
    "duration": 13,
    "start_time": "2022-03-16T17:15:52.602Z"
   },
   {
    "duration": 9,
    "start_time": "2022-03-16T17:15:52.617Z"
   },
   {
    "duration": 3843,
    "start_time": "2022-03-16T17:15:52.628Z"
   },
   {
    "duration": 31,
    "start_time": "2022-03-16T17:15:56.473Z"
   },
   {
    "duration": 12,
    "start_time": "2022-03-16T17:15:56.506Z"
   },
   {
    "duration": 14,
    "start_time": "2022-03-16T17:15:56.520Z"
   },
   {
    "duration": 51,
    "start_time": "2022-03-16T17:15:56.536Z"
   },
   {
    "duration": 20,
    "start_time": "2022-03-16T17:15:56.590Z"
   },
   {
    "duration": 4,
    "start_time": "2022-03-16T17:23:25.297Z"
   },
   {
    "duration": 683,
    "start_time": "2022-03-16T17:25:26.844Z"
   },
   {
    "duration": 10,
    "start_time": "2022-03-16T17:25:27.529Z"
   },
   {
    "duration": 14,
    "start_time": "2022-03-16T17:25:27.541Z"
   },
   {
    "duration": 5,
    "start_time": "2022-03-16T17:25:27.557Z"
   },
   {
    "duration": 23,
    "start_time": "2022-03-16T17:25:27.564Z"
   },
   {
    "duration": 15,
    "start_time": "2022-03-16T17:25:27.589Z"
   },
   {
    "duration": 11,
    "start_time": "2022-03-16T17:25:27.605Z"
   },
   {
    "duration": 10,
    "start_time": "2022-03-16T17:25:27.619Z"
   },
   {
    "duration": 69,
    "start_time": "2022-03-16T17:25:27.631Z"
   },
   {
    "duration": 7,
    "start_time": "2022-03-16T17:25:27.701Z"
   },
   {
    "duration": 18,
    "start_time": "2022-03-16T17:25:27.710Z"
   },
   {
    "duration": 4,
    "start_time": "2022-03-16T17:25:27.730Z"
   },
   {
    "duration": 10,
    "start_time": "2022-03-16T17:25:27.735Z"
   },
   {
    "duration": 6,
    "start_time": "2022-03-16T17:25:27.747Z"
   },
   {
    "duration": 3882,
    "start_time": "2022-03-16T17:25:27.755Z"
   },
   {
    "duration": 20,
    "start_time": "2022-03-16T17:25:31.639Z"
   },
   {
    "duration": 25,
    "start_time": "2022-03-16T17:25:31.661Z"
   },
   {
    "duration": 16,
    "start_time": "2022-03-16T17:25:31.687Z"
   },
   {
    "duration": 23,
    "start_time": "2022-03-16T17:25:31.705Z"
   },
   {
    "duration": 22,
    "start_time": "2022-03-16T17:25:31.730Z"
   },
   {
    "duration": 631,
    "start_time": "2022-03-16T17:26:45.083Z"
   },
   {
    "duration": 8,
    "start_time": "2022-03-16T17:26:45.716Z"
   },
   {
    "duration": 11,
    "start_time": "2022-03-16T17:26:45.726Z"
   },
   {
    "duration": 4,
    "start_time": "2022-03-16T17:26:45.739Z"
   },
   {
    "duration": 8,
    "start_time": "2022-03-16T17:26:45.744Z"
   },
   {
    "duration": 35,
    "start_time": "2022-03-16T17:26:45.753Z"
   },
   {
    "duration": 11,
    "start_time": "2022-03-16T17:26:45.789Z"
   },
   {
    "duration": 10,
    "start_time": "2022-03-16T17:26:45.803Z"
   },
   {
    "duration": 35,
    "start_time": "2022-03-16T17:26:45.814Z"
   },
   {
    "duration": 30,
    "start_time": "2022-03-16T17:26:45.851Z"
   },
   {
    "duration": 22,
    "start_time": "2022-03-16T17:26:45.883Z"
   },
   {
    "duration": 4,
    "start_time": "2022-03-16T17:26:45.906Z"
   },
   {
    "duration": 11,
    "start_time": "2022-03-16T17:26:45.912Z"
   },
   {
    "duration": 6,
    "start_time": "2022-03-16T17:26:45.924Z"
   },
   {
    "duration": 3726,
    "start_time": "2022-03-16T17:26:45.931Z"
   },
   {
    "duration": 32,
    "start_time": "2022-03-16T17:26:49.659Z"
   },
   {
    "duration": 12,
    "start_time": "2022-03-16T17:26:49.694Z"
   },
   {
    "duration": 17,
    "start_time": "2022-03-16T17:26:49.708Z"
   },
   {
    "duration": 19,
    "start_time": "2022-03-16T17:26:49.727Z"
   },
   {
    "duration": 47,
    "start_time": "2022-03-16T17:26:49.748Z"
   },
   {
    "duration": 680,
    "start_time": "2022-03-16T17:27:06.860Z"
   },
   {
    "duration": 10,
    "start_time": "2022-03-16T17:27:07.542Z"
   },
   {
    "duration": 12,
    "start_time": "2022-03-16T17:27:07.554Z"
   },
   {
    "duration": 12,
    "start_time": "2022-03-16T17:27:07.569Z"
   },
   {
    "duration": 7,
    "start_time": "2022-03-16T17:27:07.582Z"
   },
   {
    "duration": 15,
    "start_time": "2022-03-16T17:27:07.590Z"
   },
   {
    "duration": 10,
    "start_time": "2022-03-16T17:27:07.607Z"
   },
   {
    "duration": 10,
    "start_time": "2022-03-16T17:27:07.619Z"
   },
   {
    "duration": 67,
    "start_time": "2022-03-16T17:27:07.631Z"
   },
   {
    "duration": 7,
    "start_time": "2022-03-16T17:27:07.700Z"
   },
   {
    "duration": 22,
    "start_time": "2022-03-16T17:27:07.708Z"
   },
   {
    "duration": 5,
    "start_time": "2022-03-16T17:27:07.731Z"
   },
   {
    "duration": 11,
    "start_time": "2022-03-16T17:27:07.738Z"
   },
   {
    "duration": 6,
    "start_time": "2022-03-16T17:27:07.750Z"
   },
   {
    "duration": 3604,
    "start_time": "2022-03-16T17:27:07.758Z"
   },
   {
    "duration": 28,
    "start_time": "2022-03-16T17:27:11.364Z"
   },
   {
    "duration": 13,
    "start_time": "2022-03-16T17:27:11.393Z"
   },
   {
    "duration": 15,
    "start_time": "2022-03-16T17:27:11.407Z"
   },
   {
    "duration": 18,
    "start_time": "2022-03-16T17:27:11.424Z"
   },
   {
    "duration": 45,
    "start_time": "2022-03-16T17:27:11.444Z"
   },
   {
    "duration": 469,
    "start_time": "2022-03-17T07:30:46.761Z"
   },
   {
    "duration": 23,
    "start_time": "2022-03-17T07:33:00.189Z"
   },
   {
    "duration": 68,
    "start_time": "2022-03-17T07:35:10.746Z"
   },
   {
    "duration": 14,
    "start_time": "2022-03-17T07:35:10.816Z"
   },
   {
    "duration": 15,
    "start_time": "2022-03-17T07:35:10.832Z"
   },
   {
    "duration": 14,
    "start_time": "2022-03-17T07:35:10.848Z"
   },
   {
    "duration": 5,
    "start_time": "2022-03-17T07:35:10.864Z"
   },
   {
    "duration": 9,
    "start_time": "2022-03-17T07:35:10.871Z"
   },
   {
    "duration": 13,
    "start_time": "2022-03-17T07:35:10.882Z"
   },
   {
    "duration": 43,
    "start_time": "2022-03-17T07:35:10.896Z"
   },
   {
    "duration": 17,
    "start_time": "2022-03-17T07:35:10.940Z"
   },
   {
    "duration": 44,
    "start_time": "2022-03-17T07:35:10.958Z"
   },
   {
    "duration": 7,
    "start_time": "2022-03-17T07:35:11.003Z"
   },
   {
    "duration": 43,
    "start_time": "2022-03-17T07:35:11.012Z"
   },
   {
    "duration": 3,
    "start_time": "2022-03-17T07:35:11.057Z"
   },
   {
    "duration": 12,
    "start_time": "2022-03-17T07:35:11.063Z"
   },
   {
    "duration": 7,
    "start_time": "2022-03-17T07:35:11.076Z"
   },
   {
    "duration": 3379,
    "start_time": "2022-03-17T07:35:11.084Z"
   },
   {
    "duration": 17,
    "start_time": "2022-03-17T07:35:14.465Z"
   },
   {
    "duration": 12,
    "start_time": "2022-03-17T07:35:14.484Z"
   },
   {
    "duration": 44,
    "start_time": "2022-03-17T07:35:14.497Z"
   },
   {
    "duration": 20,
    "start_time": "2022-03-17T07:35:14.542Z"
   },
   {
    "duration": 21,
    "start_time": "2022-03-17T07:35:14.564Z"
   },
   {
    "duration": 6,
    "start_time": "2022-03-17T07:35:54.780Z"
   },
   {
    "duration": 13,
    "start_time": "2022-03-17T07:35:57.958Z"
   },
   {
    "duration": 19,
    "start_time": "2022-03-17T07:37:01.342Z"
   },
   {
    "duration": 32,
    "start_time": "2022-03-17T07:37:04.423Z"
   },
   {
    "duration": 13,
    "start_time": "2022-03-17T07:37:43.017Z"
   },
   {
    "duration": 25,
    "start_time": "2022-03-17T07:40:47.640Z"
   },
   {
    "duration": 17,
    "start_time": "2022-03-17T07:41:28.606Z"
   },
   {
    "duration": 27,
    "start_time": "2022-03-17T07:42:29.024Z"
   },
   {
    "duration": 10,
    "start_time": "2022-03-17T07:49:51.491Z"
   },
   {
    "duration": 71,
    "start_time": "2022-03-17T07:51:21.910Z"
   },
   {
    "duration": 32,
    "start_time": "2022-03-17T07:51:29.590Z"
   },
   {
    "duration": 21,
    "start_time": "2022-03-17T07:51:47.609Z"
   },
   {
    "duration": 34,
    "start_time": "2022-03-17T07:52:00.312Z"
   },
   {
    "duration": 20,
    "start_time": "2022-03-17T07:52:19.667Z"
   },
   {
    "duration": 79,
    "start_time": "2022-03-17T16:33:11.616Z"
   },
   {
    "duration": 14,
    "start_time": "2022-03-17T16:33:11.697Z"
   },
   {
    "duration": 25,
    "start_time": "2022-03-17T16:33:11.713Z"
   },
   {
    "duration": 13,
    "start_time": "2022-03-17T16:33:11.740Z"
   },
   {
    "duration": 13,
    "start_time": "2022-03-17T16:33:11.756Z"
   },
   {
    "duration": 18,
    "start_time": "2022-03-17T16:33:11.770Z"
   },
   {
    "duration": 19,
    "start_time": "2022-03-17T16:33:11.790Z"
   },
   {
    "duration": 9,
    "start_time": "2022-03-17T16:33:11.810Z"
   },
   {
    "duration": 23,
    "start_time": "2022-03-17T16:33:11.821Z"
   },
   {
    "duration": 19,
    "start_time": "2022-03-17T16:33:11.845Z"
   },
   {
    "duration": 16,
    "start_time": "2022-03-17T16:33:11.865Z"
   },
   {
    "duration": 30,
    "start_time": "2022-03-17T16:33:11.883Z"
   },
   {
    "duration": 7,
    "start_time": "2022-03-17T16:33:11.914Z"
   },
   {
    "duration": 17,
    "start_time": "2022-03-17T16:33:11.939Z"
   },
   {
    "duration": 7,
    "start_time": "2022-03-17T16:33:11.958Z"
   },
   {
    "duration": 26,
    "start_time": "2022-03-17T16:33:11.966Z"
   },
   {
    "duration": 8,
    "start_time": "2022-03-17T16:33:11.993Z"
   },
   {
    "duration": 3486,
    "start_time": "2022-03-17T16:33:12.003Z"
   },
   {
    "duration": 31,
    "start_time": "2022-03-17T16:33:15.491Z"
   },
   {
    "duration": 13,
    "start_time": "2022-03-17T16:33:15.537Z"
   },
   {
    "duration": 20,
    "start_time": "2022-03-17T16:33:15.552Z"
   },
   {
    "duration": 20,
    "start_time": "2022-03-17T16:33:15.574Z"
   },
   {
    "duration": 52,
    "start_time": "2022-03-17T16:33:15.595Z"
   },
   {
    "duration": 13,
    "start_time": "2022-03-17T16:34:49.714Z"
   },
   {
    "duration": 2143,
    "start_time": "2022-03-17T16:35:37.015Z"
   },
   {
    "duration": 11,
    "start_time": "2022-03-17T16:36:04.638Z"
   },
   {
    "duration": 96,
    "start_time": "2022-03-17T16:36:12.619Z"
   },
   {
    "duration": 20,
    "start_time": "2022-03-17T16:36:12.717Z"
   },
   {
    "duration": 12,
    "start_time": "2022-03-17T16:36:12.739Z"
   },
   {
    "duration": 14,
    "start_time": "2022-03-17T16:36:12.753Z"
   },
   {
    "duration": 5,
    "start_time": "2022-03-17T16:36:12.769Z"
   },
   {
    "duration": 9,
    "start_time": "2022-03-17T16:36:12.776Z"
   },
   {
    "duration": 13,
    "start_time": "2022-03-17T16:36:12.787Z"
   },
   {
    "duration": 41,
    "start_time": "2022-03-17T16:36:12.802Z"
   },
   {
    "duration": 14,
    "start_time": "2022-03-17T16:36:12.845Z"
   },
   {
    "duration": 16,
    "start_time": "2022-03-17T16:36:12.862Z"
   },
   {
    "duration": 10,
    "start_time": "2022-03-17T16:36:12.880Z"
   },
   {
    "duration": 0,
    "start_time": "2022-03-17T16:36:12.892Z"
   },
   {
    "duration": 0,
    "start_time": "2022-03-17T16:36:12.894Z"
   },
   {
    "duration": 0,
    "start_time": "2022-03-17T16:36:12.895Z"
   },
   {
    "duration": 0,
    "start_time": "2022-03-17T16:36:12.896Z"
   },
   {
    "duration": 0,
    "start_time": "2022-03-17T16:36:12.898Z"
   },
   {
    "duration": 0,
    "start_time": "2022-03-17T16:36:12.899Z"
   },
   {
    "duration": 0,
    "start_time": "2022-03-17T16:36:12.899Z"
   },
   {
    "duration": 0,
    "start_time": "2022-03-17T16:36:12.938Z"
   },
   {
    "duration": 0,
    "start_time": "2022-03-17T16:36:12.939Z"
   },
   {
    "duration": 0,
    "start_time": "2022-03-17T16:36:12.941Z"
   },
   {
    "duration": 0,
    "start_time": "2022-03-17T16:36:12.942Z"
   },
   {
    "duration": 0,
    "start_time": "2022-03-17T16:36:12.943Z"
   },
   {
    "duration": 0,
    "start_time": "2022-03-17T16:36:12.944Z"
   },
   {
    "duration": 8,
    "start_time": "2022-03-17T16:37:02.757Z"
   },
   {
    "duration": 11,
    "start_time": "2022-03-17T16:37:08.516Z"
   },
   {
    "duration": 12,
    "start_time": "2022-03-17T16:37:34.064Z"
   },
   {
    "duration": 12,
    "start_time": "2022-03-17T16:38:29.133Z"
   },
   {
    "duration": 5,
    "start_time": "2022-03-17T16:39:08.470Z"
   },
   {
    "duration": 15,
    "start_time": "2022-03-17T16:39:23.499Z"
   },
   {
    "duration": 163,
    "start_time": "2022-03-17T16:42:06.436Z"
   },
   {
    "duration": 34,
    "start_time": "2022-03-17T16:46:23.334Z"
   },
   {
    "duration": 90,
    "start_time": "2022-03-17T16:46:30.356Z"
   },
   {
    "duration": 15,
    "start_time": "2022-03-17T16:46:30.447Z"
   },
   {
    "duration": 13,
    "start_time": "2022-03-17T16:46:30.464Z"
   },
   {
    "duration": 22,
    "start_time": "2022-03-17T16:46:30.479Z"
   },
   {
    "duration": 6,
    "start_time": "2022-03-17T16:46:30.504Z"
   },
   {
    "duration": 27,
    "start_time": "2022-03-17T16:46:30.512Z"
   },
   {
    "duration": 15,
    "start_time": "2022-03-17T16:46:30.540Z"
   },
   {
    "duration": 6,
    "start_time": "2022-03-17T16:46:30.558Z"
   },
   {
    "duration": 21,
    "start_time": "2022-03-17T16:46:30.565Z"
   },
   {
    "duration": 18,
    "start_time": "2022-03-17T16:46:30.587Z"
   },
   {
    "duration": 40,
    "start_time": "2022-03-17T16:46:30.606Z"
   },
   {
    "duration": 19,
    "start_time": "2022-03-17T16:46:30.647Z"
   },
   {
    "duration": 19,
    "start_time": "2022-03-17T16:46:30.668Z"
   },
   {
    "duration": 17,
    "start_time": "2022-03-17T16:46:30.690Z"
   },
   {
    "duration": 25,
    "start_time": "2022-03-17T16:46:30.709Z"
   },
   {
    "duration": 38,
    "start_time": "2022-03-17T16:46:30.737Z"
   },
   {
    "duration": 2070,
    "start_time": "2022-03-17T16:46:30.777Z"
   },
   {
    "duration": 1,
    "start_time": "2022-03-17T16:46:32.849Z"
   },
   {
    "duration": 0,
    "start_time": "2022-03-17T16:46:32.851Z"
   },
   {
    "duration": 0,
    "start_time": "2022-03-17T16:46:32.853Z"
   },
   {
    "duration": 0,
    "start_time": "2022-03-17T16:46:32.854Z"
   },
   {
    "duration": 0,
    "start_time": "2022-03-17T16:46:32.855Z"
   },
   {
    "duration": 0,
    "start_time": "2022-03-17T16:46:32.856Z"
   },
   {
    "duration": 0,
    "start_time": "2022-03-17T16:46:32.858Z"
   },
   {
    "duration": 0,
    "start_time": "2022-03-17T16:46:32.859Z"
   },
   {
    "duration": 0,
    "start_time": "2022-03-17T16:46:32.860Z"
   },
   {
    "duration": 0,
    "start_time": "2022-03-17T16:46:32.861Z"
   },
   {
    "duration": 6,
    "start_time": "2022-03-17T16:47:24.749Z"
   },
   {
    "duration": 2153,
    "start_time": "2022-03-17T16:47:32.750Z"
   },
   {
    "duration": 71,
    "start_time": "2022-03-17T16:48:08.199Z"
   },
   {
    "duration": 16,
    "start_time": "2022-03-17T16:48:08.272Z"
   },
   {
    "duration": 11,
    "start_time": "2022-03-17T16:48:08.290Z"
   },
   {
    "duration": 35,
    "start_time": "2022-03-17T16:48:08.303Z"
   },
   {
    "duration": 6,
    "start_time": "2022-03-17T16:48:08.341Z"
   },
   {
    "duration": 8,
    "start_time": "2022-03-17T16:48:08.349Z"
   },
   {
    "duration": 12,
    "start_time": "2022-03-17T16:48:08.359Z"
   },
   {
    "duration": 8,
    "start_time": "2022-03-17T16:48:08.372Z"
   },
   {
    "duration": 14,
    "start_time": "2022-03-17T16:48:08.382Z"
   },
   {
    "duration": 45,
    "start_time": "2022-03-17T16:48:08.398Z"
   },
   {
    "duration": 12,
    "start_time": "2022-03-17T16:48:08.445Z"
   },
   {
    "duration": 11,
    "start_time": "2022-03-17T16:48:08.459Z"
   },
   {
    "duration": 20,
    "start_time": "2022-03-17T16:48:08.472Z"
   },
   {
    "duration": 66,
    "start_time": "2022-03-17T16:48:08.494Z"
   },
   {
    "duration": 5,
    "start_time": "2022-03-17T16:48:08.562Z"
   },
   {
    "duration": 19,
    "start_time": "2022-03-17T16:48:08.569Z"
   },
   {
    "duration": 5,
    "start_time": "2022-03-17T16:48:08.590Z"
   },
   {
    "duration": 44,
    "start_time": "2022-03-17T16:48:08.596Z"
   },
   {
    "duration": 9,
    "start_time": "2022-03-17T16:48:08.642Z"
   },
   {
    "duration": 3663,
    "start_time": "2022-03-17T16:48:08.653Z"
   },
   {
    "duration": 58,
    "start_time": "2022-03-17T16:48:12.318Z"
   },
   {
    "duration": 13,
    "start_time": "2022-03-17T16:48:12.378Z"
   },
   {
    "duration": 20,
    "start_time": "2022-03-17T16:48:12.392Z"
   },
   {
    "duration": 44,
    "start_time": "2022-03-17T16:48:12.414Z"
   },
   {
    "duration": 21,
    "start_time": "2022-03-17T16:48:12.459Z"
   },
   {
    "duration": 21,
    "start_time": "2022-03-17T16:50:09.308Z"
   },
   {
    "duration": 501,
    "start_time": "2022-03-17T18:39:24.590Z"
   },
   {
    "duration": 14,
    "start_time": "2022-03-17T18:39:25.093Z"
   },
   {
    "duration": 9,
    "start_time": "2022-03-17T18:39:25.109Z"
   },
   {
    "duration": 14,
    "start_time": "2022-03-17T18:39:25.119Z"
   },
   {
    "duration": 4,
    "start_time": "2022-03-17T18:39:25.134Z"
   },
   {
    "duration": 8,
    "start_time": "2022-03-17T18:39:25.140Z"
   },
   {
    "duration": 40,
    "start_time": "2022-03-17T18:39:25.150Z"
   },
   {
    "duration": 6,
    "start_time": "2022-03-17T18:39:25.191Z"
   },
   {
    "duration": 12,
    "start_time": "2022-03-17T18:39:25.198Z"
   },
   {
    "duration": 13,
    "start_time": "2022-03-17T18:39:25.212Z"
   },
   {
    "duration": 11,
    "start_time": "2022-03-17T18:39:25.227Z"
   },
   {
    "duration": 10,
    "start_time": "2022-03-17T18:39:25.239Z"
   },
   {
    "duration": 15,
    "start_time": "2022-03-17T18:39:25.281Z"
   },
   {
    "duration": 28,
    "start_time": "2022-03-17T18:39:25.298Z"
   },
   {
    "duration": 5,
    "start_time": "2022-03-17T18:39:25.328Z"
   },
   {
    "duration": 21,
    "start_time": "2022-03-17T18:39:25.334Z"
   },
   {
    "duration": 4,
    "start_time": "2022-03-17T18:39:25.382Z"
   },
   {
    "duration": 21,
    "start_time": "2022-03-17T18:39:25.387Z"
   },
   {
    "duration": 7,
    "start_time": "2022-03-17T18:39:25.409Z"
   },
   {
    "duration": 3934,
    "start_time": "2022-03-17T18:39:25.417Z"
   },
   {
    "duration": 35,
    "start_time": "2022-03-17T18:39:29.352Z"
   },
   {
    "duration": 11,
    "start_time": "2022-03-17T18:39:29.389Z"
   },
   {
    "duration": 16,
    "start_time": "2022-03-17T18:39:29.401Z"
   },
   {
    "duration": 17,
    "start_time": "2022-03-17T18:39:29.418Z"
   },
   {
    "duration": 52,
    "start_time": "2022-03-17T18:39:29.437Z"
   },
   {
    "duration": 28,
    "start_time": "2022-03-17T19:04:23.802Z"
   },
   {
    "duration": 588,
    "start_time": "2022-03-17T19:13:57.259Z"
   },
   {
    "duration": 21,
    "start_time": "2022-03-17T19:13:57.850Z"
   },
   {
    "duration": 16,
    "start_time": "2022-03-17T19:13:57.880Z"
   },
   {
    "duration": 22,
    "start_time": "2022-03-17T19:13:57.898Z"
   },
   {
    "duration": 9,
    "start_time": "2022-03-17T19:13:57.922Z"
   },
   {
    "duration": 11,
    "start_time": "2022-03-17T19:13:57.933Z"
   },
   {
    "duration": 42,
    "start_time": "2022-03-17T19:13:57.946Z"
   },
   {
    "duration": 6,
    "start_time": "2022-03-17T19:13:57.990Z"
   },
   {
    "duration": 16,
    "start_time": "2022-03-17T19:13:57.998Z"
   },
   {
    "duration": 20,
    "start_time": "2022-03-17T19:13:58.016Z"
   },
   {
    "duration": 43,
    "start_time": "2022-03-17T19:13:58.038Z"
   },
   {
    "duration": 16,
    "start_time": "2022-03-17T19:13:58.083Z"
   },
   {
    "duration": 22,
    "start_time": "2022-03-17T19:13:58.101Z"
   },
   {
    "duration": 63,
    "start_time": "2022-03-17T19:13:58.126Z"
   },
   {
    "duration": 7,
    "start_time": "2022-03-17T19:13:58.193Z"
   },
   {
    "duration": 30,
    "start_time": "2022-03-17T19:13:58.202Z"
   },
   {
    "duration": 4,
    "start_time": "2022-03-17T19:13:58.236Z"
   },
   {
    "duration": 44,
    "start_time": "2022-03-17T19:13:58.242Z"
   },
   {
    "duration": 10,
    "start_time": "2022-03-17T19:13:58.288Z"
   },
   {
    "duration": 4720,
    "start_time": "2022-03-17T19:13:58.300Z"
   },
   {
    "duration": 40,
    "start_time": "2022-03-17T19:14:03.023Z"
   },
   {
    "duration": 26,
    "start_time": "2022-03-17T19:14:03.065Z"
   },
   {
    "duration": 23,
    "start_time": "2022-03-17T19:14:03.093Z"
   },
   {
    "duration": 26,
    "start_time": "2022-03-17T19:14:03.118Z"
   },
   {
    "duration": 55,
    "start_time": "2022-03-17T19:14:03.146Z"
   },
   {
    "duration": 488,
    "start_time": "2022-03-17T19:23:49.255Z"
   },
   {
    "duration": 18,
    "start_time": "2022-03-17T19:23:49.746Z"
   },
   {
    "duration": 15,
    "start_time": "2022-03-17T19:23:49.767Z"
   },
   {
    "duration": 21,
    "start_time": "2022-03-17T19:23:49.784Z"
   },
   {
    "duration": 6,
    "start_time": "2022-03-17T19:23:49.807Z"
   },
   {
    "duration": 26,
    "start_time": "2022-03-17T19:23:49.815Z"
   },
   {
    "duration": 15,
    "start_time": "2022-03-17T19:23:49.843Z"
   },
   {
    "duration": 6,
    "start_time": "2022-03-17T19:23:49.860Z"
   },
   {
    "duration": 45,
    "start_time": "2022-03-17T19:23:49.868Z"
   },
   {
    "duration": 17,
    "start_time": "2022-03-17T19:23:49.917Z"
   },
   {
    "duration": 14,
    "start_time": "2022-03-17T19:23:49.936Z"
   },
   {
    "duration": 13,
    "start_time": "2022-03-17T19:23:49.951Z"
   },
   {
    "duration": 31,
    "start_time": "2022-03-17T19:23:49.966Z"
   },
   {
    "duration": 43,
    "start_time": "2022-03-17T19:23:49.999Z"
   },
   {
    "duration": 6,
    "start_time": "2022-03-17T19:23:50.044Z"
   },
   {
    "duration": 50,
    "start_time": "2022-03-17T19:23:50.052Z"
   },
   {
    "duration": 9,
    "start_time": "2022-03-17T19:23:50.104Z"
   },
   {
    "duration": 24,
    "start_time": "2022-03-17T19:23:50.115Z"
   },
   {
    "duration": 12,
    "start_time": "2022-03-17T19:23:50.141Z"
   },
   {
    "duration": 4056,
    "start_time": "2022-03-17T19:23:50.155Z"
   },
   {
    "duration": 28,
    "start_time": "2022-03-17T19:23:54.214Z"
   },
   {
    "duration": 11,
    "start_time": "2022-03-17T19:23:54.244Z"
   },
   {
    "duration": 37,
    "start_time": "2022-03-17T19:23:54.257Z"
   },
   {
    "duration": 18,
    "start_time": "2022-03-17T19:23:54.295Z"
   },
   {
    "duration": 20,
    "start_time": "2022-03-17T19:23:54.314Z"
   },
   {
    "duration": 50,
    "start_time": "2022-03-18T07:04:15.984Z"
   },
   {
    "duration": 6,
    "start_time": "2022-03-18T07:04:41.695Z"
   },
   {
    "duration": 491,
    "start_time": "2022-03-18T07:04:44.352Z"
   },
   {
    "duration": 14,
    "start_time": "2022-03-18T07:04:44.845Z"
   },
   {
    "duration": 9,
    "start_time": "2022-03-18T07:04:44.860Z"
   },
   {
    "duration": 12,
    "start_time": "2022-03-18T07:04:44.870Z"
   },
   {
    "duration": 6,
    "start_time": "2022-03-18T07:04:44.884Z"
   },
   {
    "duration": 6,
    "start_time": "2022-03-18T07:04:44.891Z"
   },
   {
    "duration": 10,
    "start_time": "2022-03-18T07:04:44.899Z"
   },
   {
    "duration": 5,
    "start_time": "2022-03-18T07:04:44.910Z"
   },
   {
    "duration": 11,
    "start_time": "2022-03-18T07:04:44.916Z"
   },
   {
    "duration": 16,
    "start_time": "2022-03-18T07:04:44.963Z"
   },
   {
    "duration": 13,
    "start_time": "2022-03-18T07:04:44.980Z"
   },
   {
    "duration": 12,
    "start_time": "2022-03-18T07:04:44.994Z"
   },
   {
    "duration": 26,
    "start_time": "2022-03-18T07:04:45.009Z"
   },
   {
    "duration": 31,
    "start_time": "2022-03-18T07:04:45.064Z"
   },
   {
    "duration": 6,
    "start_time": "2022-03-18T07:04:45.097Z"
   },
   {
    "duration": 18,
    "start_time": "2022-03-18T07:04:45.105Z"
   },
   {
    "duration": 5,
    "start_time": "2022-03-18T07:04:45.124Z"
   },
   {
    "duration": 45,
    "start_time": "2022-03-18T07:04:45.130Z"
   },
   {
    "duration": 9,
    "start_time": "2022-03-18T07:04:45.177Z"
   },
   {
    "duration": 3146,
    "start_time": "2022-03-18T07:04:45.187Z"
   },
   {
    "duration": 40,
    "start_time": "2022-03-18T07:04:48.335Z"
   },
   {
    "duration": 10,
    "start_time": "2022-03-18T07:04:48.377Z"
   },
   {
    "duration": 15,
    "start_time": "2022-03-18T07:04:48.389Z"
   },
   {
    "duration": 19,
    "start_time": "2022-03-18T07:04:48.407Z"
   },
   {
    "duration": 59,
    "start_time": "2022-03-18T07:04:48.427Z"
   },
   {
    "duration": 12,
    "start_time": "2022-03-18T07:04:53.565Z"
   },
   {
    "duration": 19,
    "start_time": "2022-03-18T07:05:05.043Z"
   },
   {
    "duration": 17,
    "start_time": "2022-03-18T07:05:19.174Z"
   },
   {
    "duration": 139,
    "start_time": "2022-03-18T07:06:46.419Z"
   },
   {
    "duration": 616,
    "start_time": "2022-03-18T19:21:55.650Z"
   },
   {
    "duration": 21,
    "start_time": "2022-03-18T19:21:56.268Z"
   },
   {
    "duration": 13,
    "start_time": "2022-03-18T19:21:56.292Z"
   },
   {
    "duration": 17,
    "start_time": "2022-03-18T19:21:56.308Z"
   },
   {
    "duration": 40,
    "start_time": "2022-03-18T19:21:56.327Z"
   },
   {
    "duration": 9,
    "start_time": "2022-03-18T19:21:56.369Z"
   },
   {
    "duration": 24,
    "start_time": "2022-03-18T19:21:56.380Z"
   },
   {
    "duration": 8,
    "start_time": "2022-03-18T19:21:56.406Z"
   },
   {
    "duration": 17,
    "start_time": "2022-03-18T19:21:56.416Z"
   },
   {
    "duration": 22,
    "start_time": "2022-03-18T19:21:56.469Z"
   },
   {
    "duration": 17,
    "start_time": "2022-03-18T19:21:56.493Z"
   },
   {
    "duration": 17,
    "start_time": "2022-03-18T19:21:56.512Z"
   },
   {
    "duration": 57,
    "start_time": "2022-03-18T19:21:56.531Z"
   },
   {
    "duration": 43,
    "start_time": "2022-03-18T19:21:56.590Z"
   },
   {
    "duration": 35,
    "start_time": "2022-03-18T19:21:56.635Z"
   },
   {
    "duration": 23,
    "start_time": "2022-03-18T19:21:56.674Z"
   },
   {
    "duration": 6,
    "start_time": "2022-03-18T19:21:56.700Z"
   },
   {
    "duration": 68,
    "start_time": "2022-03-18T19:21:56.709Z"
   },
   {
    "duration": 10,
    "start_time": "2022-03-18T19:21:56.779Z"
   },
   {
    "duration": 4878,
    "start_time": "2022-03-18T19:21:56.792Z"
   },
   {
    "duration": 45,
    "start_time": "2022-03-18T19:22:01.672Z"
   },
   {
    "duration": 17,
    "start_time": "2022-03-18T19:22:01.719Z"
   },
   {
    "duration": 52,
    "start_time": "2022-03-18T19:22:01.739Z"
   },
   {
    "duration": 33,
    "start_time": "2022-03-18T19:22:01.793Z"
   },
   {
    "duration": 61,
    "start_time": "2022-03-18T19:22:01.829Z"
   },
   {
    "duration": 609,
    "start_time": "2022-03-18T19:29:02.141Z"
   },
   {
    "duration": 26,
    "start_time": "2022-03-18T19:29:02.753Z"
   },
   {
    "duration": 14,
    "start_time": "2022-03-18T19:29:02.781Z"
   },
   {
    "duration": 17,
    "start_time": "2022-03-18T19:29:02.797Z"
   },
   {
    "duration": 7,
    "start_time": "2022-03-18T19:29:02.818Z"
   },
   {
    "duration": 9,
    "start_time": "2022-03-18T19:29:02.867Z"
   },
   {
    "duration": 19,
    "start_time": "2022-03-18T19:29:02.878Z"
   },
   {
    "duration": 7,
    "start_time": "2022-03-18T19:29:02.899Z"
   },
   {
    "duration": 18,
    "start_time": "2022-03-18T19:29:02.908Z"
   },
   {
    "duration": 26,
    "start_time": "2022-03-18T19:29:02.968Z"
   },
   {
    "duration": 16,
    "start_time": "2022-03-18T19:29:08.904Z"
   },
   {
    "duration": 16,
    "start_time": "2022-03-18T19:29:10.171Z"
   },
   {
    "duration": 28,
    "start_time": "2022-03-18T19:29:17.757Z"
   },
   {
    "duration": 591,
    "start_time": "2022-03-18T19:36:00.081Z"
   },
   {
    "duration": 20,
    "start_time": "2022-03-18T19:36:00.675Z"
   },
   {
    "duration": 13,
    "start_time": "2022-03-18T19:36:00.697Z"
   },
   {
    "duration": 20,
    "start_time": "2022-03-18T19:36:00.712Z"
   },
   {
    "duration": 36,
    "start_time": "2022-03-18T19:36:00.735Z"
   },
   {
    "duration": 10,
    "start_time": "2022-03-18T19:36:00.773Z"
   },
   {
    "duration": 18,
    "start_time": "2022-03-18T19:36:00.785Z"
   },
   {
    "duration": 7,
    "start_time": "2022-03-18T19:36:00.806Z"
   },
   {
    "duration": 60,
    "start_time": "2022-03-18T19:36:00.816Z"
   },
   {
    "duration": 21,
    "start_time": "2022-03-18T19:36:00.879Z"
   },
   {
    "duration": 18,
    "start_time": "2022-03-18T19:36:00.902Z"
   },
   {
    "duration": 47,
    "start_time": "2022-03-18T19:36:00.922Z"
   },
   {
    "duration": 23,
    "start_time": "2022-03-18T19:36:00.972Z"
   },
   {
    "duration": 69,
    "start_time": "2022-03-18T19:36:00.999Z"
   },
   {
    "duration": 9,
    "start_time": "2022-03-18T19:36:01.071Z"
   },
   {
    "duration": 29,
    "start_time": "2022-03-18T19:36:01.082Z"
   },
   {
    "duration": 25,
    "start_time": "2022-03-18T19:36:01.114Z"
   },
   {
    "duration": 45,
    "start_time": "2022-03-18T19:36:01.141Z"
   },
   {
    "duration": 12,
    "start_time": "2022-03-18T19:36:01.188Z"
   },
   {
    "duration": 4720,
    "start_time": "2022-03-18T19:36:01.202Z"
   },
   {
    "duration": 60,
    "start_time": "2022-03-18T19:36:05.924Z"
   },
   {
    "duration": 15,
    "start_time": "2022-03-18T19:36:05.987Z"
   },
   {
    "duration": 24,
    "start_time": "2022-03-18T19:36:06.005Z"
   },
   {
    "duration": 51,
    "start_time": "2022-03-18T19:36:06.032Z"
   },
   {
    "duration": 24,
    "start_time": "2022-03-18T19:36:06.085Z"
   }
  ],
  "celltoolbar": "Необработанный формат ячейки",
  "kernelspec": {
   "display_name": "Python 3 (ipykernel)",
   "language": "python",
   "name": "python3"
  },
  "language_info": {
   "codemirror_mode": {
    "name": "ipython",
    "version": 3
   },
   "file_extension": ".py",
   "mimetype": "text/x-python",
   "name": "python",
   "nbconvert_exporter": "python",
   "pygments_lexer": "ipython3",
   "version": "3.9.7"
  },
  "toc": {
   "base_numbering": 1,
   "nav_menu": {},
   "number_sections": true,
   "sideBar": true,
   "skip_h1_title": true,
   "title_cell": "Table of Contents",
   "title_sidebar": "Contents",
   "toc_cell": false,
   "toc_position": {},
   "toc_section_display": true,
   "toc_window_display": false
  }
 },
 "nbformat": 4,
 "nbformat_minor": 5
}
